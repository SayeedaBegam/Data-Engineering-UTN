{
 "cells": [
  {
   "cell_type": "markdown",
   "id": "f1af8719-960e-47b9-8b4c-141ddedd9575",
   "metadata": {
    "deletable": false,
    "editable": false,
    "nbgrader": {
     "cell_type": "markdown",
     "checksum": "350b73f0bcf3d8e26dba43c50c01219a",
     "grade": false,
     "grade_id": "cell-9542ef82174abf9e",
     "locked": true,
     "schema_version": 3,
     "solution": false,
     "task": false
    }
   },
   "source": [
    "# Exercise 1: NYC Taxi Dataset Analysis with Unix Tools and SQL"
   ]
  },
  {
   "cell_type": "markdown",
   "id": "ee2a1896-7a75-42db-aa4a-482ccbb93b67",
   "metadata": {},
   "source": [
    "Your name: ______________"
   ]
  },
  {
   "cell_type": "markdown",
   "id": "26c80f04-27b9-4c30-b54b-50c5653c11d4",
   "metadata": {
    "deletable": false,
    "editable": false,
    "nbgrader": {
     "cell_type": "markdown",
     "checksum": "12be71d92fed13911aa1cbcc6ed4707f",
     "grade": false,
     "grade_id": "cell-c2146894a75952c2",
     "locked": true,
     "schema_version": 3,
     "solution": false,
     "task": false
    }
   },
   "source": [
    "This assignment is split in three parts:\n",
    " 1. In the first part, we will analyze a large data set with UNIX tools.\n",
    " 2. Next, we will see how the analysis we did would be done in SQL.\n",
    " 3. Lastly, we included a refresher on more advanced SQL.\n",
    "\n",
    "### Introduction\n",
    "\n",
    "As you have seen in the lecture, **UNIX tools** are a handy way to quickly get some insights into data sets. They are **available on almost all systems and don't require any setup**, which is a huge advantage if you think about it! I still use the Unix tools we discussed almost every day.\n",
    "\n",
    "However, they will only get you so far. That's the reason why we will also look into other, **more practical and specialized** ways to analyze large data sets after the first half of the assignment. For **relational datasets**, like the one we have here, you would use some sort of database. **DuckDB** is especially suitable here because it is a very modern implementation and allows you to run queries directly on raw files without needing to import them into the database. This makes it very handy for this task. You will quickly realize how different and probably more straight-forward it will be. You can use the results from the second part to cross-check with your results from the first-part.\n",
    "\n",
    "Lastly, we will give you some tasks that require the use of more involved SQL features. This should serve as a refresher for you. If you never touched SQL, it might be a bit trickier, but surely not impossible! You can always reach out for help.\n",
    "\n",
    "### Assignment Structure\n",
    "We will use Jupyter notebooks throughout most of the exercises. The reason for this is that this tool is oftentimes used in the data science / data engineering space.\n",
    "\n",
    "Also, particularly in this assignment, we will use bash commands that we run from this notebook. We do this by marking the whole cell for executing with bash via the `%%bash` magic at the beginning. An alternative is to use `%bash` in front of a single line or use `!` followed by the command.\n",
    "The same applies for SQL code. In this code, we will use the so-called sql \"line magic\", that is, after setting up the proper config, you can run SQL in DuckDB by just starting a line with `%sql` followed by the SQL string. If you want to write multi-line SQL, you can end a line with `\\`, which means that the line will be concatenated with the following line. Be careful with comments if you are using the trick with `\\`!\n",
    "\n",
    "The following Python packages are required for this assignment:\n",
    "```\n",
    "pandas\n",
    "pyarrow\n",
    "duckdb\n",
    "jupysql\n",
    "duckdb-engine\n",
    "matplotlib\n",
    "pillow\n",
    "```\n",
    "\n",
    "\n",
    "### The Dataset\n",
    "We will use a data set that contains taxi drives from New York, which is provided for free by the city of New York. Interestingly, this data set is used in many research works because it (a) is easy to work with (b) contains real-life data and (c) has a decent size. For this exercise, we will only use the data from August 2021.\n",
    "\n",
    "Documentation of this data set is available at <https://www.nyc.gov/site/tlc/about/tlc-trip-record-data.page>. Specifically, have a look at <https://www.nyc.gov/assets/tlc/downloads/pdf/data_dictionary_trip_records_yellow.pdf>.\n",
    "When you look on the website, you will see several mentions of the \"Parquet format\". We will not use this for now, but we will learn about it later in the course. For now, we will first convert it to CSV, so that you can manually inspect the file.\n"
   ]
  },
  {
   "cell_type": "code",
   "execution_count": 1,
   "id": "6ab43236-f31e-4bfc-a1eb-55409a776dd3",
   "metadata": {},
   "outputs": [],
   "source": [
    "import pandas as pd\n",
    "\n",
    "# Download New York Taxi trip data set and convert it to CSV\n",
    "df = pd.read_parquet('https://d37ci6vzurychx.cloudfront.net/trip-data/yellow_tripdata_2021-08.parquet')\n",
    "df.to_csv('2021_Yellow_Taxi_Trip_Data.csv')"
   ]
  },
  {
   "cell_type": "markdown",
   "id": "5147ef51-4583-4539-b93e-9475d0dec2d3",
   "metadata": {
    "deletable": false,
    "editable": false,
    "nbgrader": {
     "cell_type": "markdown",
     "checksum": "6f7fdd4c8962ac6e5305c73c09b1dc78",
     "grade": false,
     "grade_id": "cell-2fe6c4e5b0fcd6c4",
     "locked": true,
     "schema_version": 3,
     "solution": false,
     "task": false
    }
   },
   "source": [
    "## Example\n",
    "\n",
    "#### Example Q: How many entries does the \"2021 Yellow Taxi Trip Data\" have?"
   ]
  },
  {
   "cell_type": "code",
   "execution_count": 2,
   "id": "f6ff462b-8d98-44a4-9584-d001121ba4d5",
   "metadata": {},
   "outputs": [
    {
     "name": "stdout",
     "output_type": "stream",
     "text": [
      "2788757\n"
     ]
    }
   ],
   "source": [
    "%%bash\n",
    "\n",
    "# Explanation: tail -n +2 can be used to skip the header of the csv file. wc -l counts the lines in the output stream.\n",
    "tail -n +2 \"2021_Yellow_Taxi_Trip_Data.csv\" | wc -l"
   ]
  },
  {
   "cell_type": "markdown",
   "id": "7a5099b6-563a-44f4-a00d-3f8c23e604bb",
   "metadata": {
    "deletable": false,
    "editable": false,
    "nbgrader": {
     "cell_type": "markdown",
     "checksum": "2eba9d41708cd4893990c6f190be6375",
     "grade": false,
     "grade_id": "cell-67d60ee84c9a5e2e",
     "locked": true,
     "schema_version": 3,
     "solution": false,
     "task": false
    }
   },
   "source": [
    "--------\n",
    "\n",
    "# Part 1: UNIX tools\n",
    "\n",
    "\n",
    "## Task\n",
    "Try to answer the questions in the quiz. You should provide the command that you used to come to your answer together with a short explanation. The command should be a \"one-liner\" that outputs the correct result. You can either work from the terminal on your computer and copy-paste the solutions into the notebook cells or directly run bash commands in the notebook (see example)."
   ]
  },
  {
   "cell_type": "markdown",
   "id": "22c15008-0b6c-4e11-82a6-f9a26dbcde4a",
   "metadata": {
    "deletable": false,
    "editable": false,
    "nbgrader": {
     "cell_type": "markdown",
     "checksum": "dcd11fc86434e8ae120e74d7aae8f721",
     "grade": false,
     "grade_id": "cell-2ce889e5c9278d44",
     "locked": true,
     "schema_version": 3,
     "solution": false,
     "task": false
    }
   },
   "source": [
    "## 1) Outliers\n",
    "\n",
    "First, we would like to understand more about the extreme values of the data set. An early understanding of this helps further down the road, i.e. if some of the extreme values look unreasonable, they should be filtered out before further processing the data set. Sometimes, they even have to be corrected!\n"
   ]
  },
  {
   "cell_type": "markdown",
   "id": "eb5723fc-0a55-408f-8905-7acd021bdb3e",
   "metadata": {
    "deletable": false,
    "editable": false,
    "nbgrader": {
     "cell_type": "markdown",
     "checksum": "6aedb00bce4f6400ccc0d7be5e4c1e31",
     "grade": false,
     "grade_id": "cell-1d75104ae5e60354",
     "locked": true,
     "schema_version": 3,
     "solution": false,
     "task": false
    }
   },
   "source": [
    "#### Q1.1: What is the trip that had the most expensive `total_amount`? Comment on the value, i.e. is it reasonable?"
   ]
  },
  {
   "cell_type": "code",
   "execution_count": 3,
   "id": "d76dfed9-687f-4a5f-a31f-cb465ae3010a",
   "metadata": {
    "deletable": false,
    "nbgrader": {
     "cell_type": "code",
     "checksum": "a015d87494c4e7bc3b95271aea415a84",
     "grade": true,
     "grade_id": "cell-601111185ccd08be",
     "locked": false,
     "points": 0,
     "schema_version": 3,
     "solution": true,
     "task": false
    }
   },
   "outputs": [
    {
     "name": "stdout",
     "output_type": "stream",
     "text": [
      "18th column = total_amount\n",
      "total_amount = 959.31\n",
      "959.31\n"
     ]
    }
   ],
   "source": [
    "%%bash\n",
    "head -n 1 2021_Yellow_Taxi_Trip_Data.csv | awk -F',' '{print \"18th column = \"$18}'\n",
    "#Explanation: Captures the first line of the CSV file (the header) and stores it in the variable header\n",
    "header=$(head -n 1 2021_Yellow_Taxi_Trip_Data.csv)\n",
    "#tail -n +2 2021_Yellow_Taxi_Trip_Data.csv: This command skips the header line and retrieves all subsequent lines from the CSV file. \n",
    "#sort -t, -k18 -nr:This sorts the data numerically (-n) and in reverse order (-r) based on the 18th column (-k18), which is expected to be total_amount. The -t, specifies that the delimiter is a comma.\n",
    "#head -n 1:This retrieves the first line of the sorted output, which corresponds to the trip with the highest total amount.\n",
    "#awk -F, '{printf(\"total_amount = %.2f\\n\", $18)}': This processes the selected line using awk, setting the field separator to a comma (-F,). It formats and prints the value of the 18th field ($18), which is the total_amount, in the format total_amount = XX.XX.\n",
    "tail -n +2 2021_Yellow_Taxi_Trip_Data.csv | sort -t, -k18 -nr | head -n 1 | awk -F, '{printf(\"total_amount = %.2f\\n\", $18)}'\n",
    "\n",
    "tail -n +2 2021_Yellow_Taxi_Trip_Data.csv | awk -F',' '{print $18}' | sort -n | tail -n 1\n",
    "\n",
    "#The total amount of $959.31 for the trip is not reasonable.\n",
    "#Reasoning:\n",
    "#-Typical fares for a trip of 12.4 miles in NYC generally range from $30 to $70.\n",
    "#-This fare is significantly higher than what would be expected, indicating it may be an outlier or a result of an error in data entry. \n",
    "#-Further investigation is warranted to understand the cause of this high amount."
   ]
  },
  {
   "cell_type": "markdown",
   "id": "fafb57c5-ff65-42dc-bab1-465bfec898d3",
   "metadata": {
    "deletable": false,
    "editable": false,
    "nbgrader": {
     "cell_type": "markdown",
     "checksum": "c82ac590ea6efabc09d455a1dd11dd65",
     "grade": false,
     "grade_id": "cell-129af33267c00ce2",
     "locked": true,
     "schema_version": 3,
     "solution": false,
     "task": false
    }
   },
   "source": [
    "#### Q1.2: What's the distance of the longest and shortest trip in kilometers? Comment on the value, i.e. is it reasonable? Try to come up with a one-liner that outputs both numbers in one line!  \n",
    "_Note: The distances in the file are in miles. Try to convert them into kilometers inside your command._"
   ]
  },
  {
   "cell_type": "code",
   "execution_count": 4,
   "id": "bb8efb03-2ace-4ff8-b0c3-0d794bb37ae0",
   "metadata": {
    "deletable": false,
    "nbgrader": {
     "cell_type": "code",
     "checksum": "a09135701a6097b7398aff16f67bb19e",
     "grade": true,
     "grade_id": "cell-29221ab1572d4c0e",
     "locked": false,
     "points": 0,
     "schema_version": 3,
     "solution": true,
     "task": false
    }
   },
   "outputs": [
    {
     "name": "stdout",
     "output_type": "stream",
     "text": [
      "6th column = trip_distance\n",
      "Shortest trip: 0.02 km, Longest trip: 495577.87 km\n"
     ]
    }
   ],
   "source": [
    "%%bash\n",
    "head -n 1 2021_Yellow_Taxi_Trip_Data.csv | awk -F',' '{print \"6th column = \"$6}'\n",
    "tail -n +2 2021_Yellow_Taxi_Trip_Data.csv | awk -F, '{dist_km=$6 * 1.60934; if (dist_km > 0) {if (min == \"\" || dist_km < min) min=dist_km; if (dist_km > max) max=dist_km}} END {if (min && max) printf \"Shortest trip: %.2f km, Longest trip: %.2f km\\n\", min, max; else print \"No valid trip distances found.\"}' \n",
    "\n",
    "#Explanation :\n",
    "#tail -n +2: Skips the header of the CSV file.\n",
    "#awk -F, '{...}': Converts the distance from miles to kilometers,Only considers trips where the distance is greater than zero.Updates the minimum (min) and maximum (max) distances accordingly.\n",
    "#END {...}:Prints the shortest and longest trip distances if valid trips were found.If no valid distances exist, it outputs a message indicating this.\n",
    "\n",
    "#Comment on the values: \n",
    "#Shortest Trip: 0.02 km:\n",
    "#A shortest trip of 0.02 km (about 20 meters) is reasonable for short urban rides, such as quick pickups or drops within a single block. \n",
    "# This indicates that some passengers are indeed taking very short taxi rides, which is common in busy city environments.\n",
    "#Longest Trip: 495577.87 km:\n",
    "#A longest trip of 495,577.87 km is not reasonable. This distance is equivalent to more than 12 times the circumference of the Earth, indicating a likely data error or anomaly. Such a trip is practically impossible and suggests either an incorrect entry or a significant issue in the dataset."
   ]
  },
  {
   "cell_type": "markdown",
   "id": "fd91ede6-49f6-4e60-bb5d-9f0defd14c0f",
   "metadata": {
    "deletable": false,
    "editable": false,
    "nbgrader": {
     "cell_type": "markdown",
     "checksum": "9dd7f52d15772526e961ddcde474303b",
     "grade": false,
     "grade_id": "cell-0b8f25a8b4061f9c",
     "locked": true,
     "schema_version": 3,
     "solution": false,
     "task": false
    }
   },
   "source": [
    "#### Q1.3: What is the maximum number of passengers on a single taxi ride? Comment on the value, i.e. is it reasonable?"
   ]
  },
  {
   "cell_type": "code",
   "execution_count": 5,
   "id": "f1b93ba9-c11a-4d59-b8eb-15d971ba8888",
   "metadata": {
    "deletable": false,
    "nbgrader": {
     "cell_type": "code",
     "checksum": "76b13a3ea7b35573020aadcb84462952",
     "grade": true,
     "grade_id": "cell-62262fda264b4f79",
     "locked": false,
     "points": 0,
     "schema_version": 3,
     "solution": true,
     "task": false
    }
   },
   "outputs": [
    {
     "name": "stdout",
     "output_type": "stream",
     "text": [
      "5th column = passenger_count\n",
      "Maximum number of passengers: 112\n"
     ]
    }
   ],
   "source": [
    "%%bash\n",
    "head -n 1 2021_Yellow_Taxi_Trip_Data.csv | awk -F',' '{print \"5th column = \"$5}'\n",
    "tail -n +2 2021_Yellow_Taxi_Trip_Data.csv | awk -F, 'BEGIN {max=0} {if ($5+0 > max) max=$5+0} END {print \"Maximum number of passengers:\", max}'\n",
    "#Explanation:\n",
    "#tail -n +2 skips the header and processes the rest of the file.\n",
    "#awk -F, processes each line with a comma as the separator.\n",
    "#BEGIN {max=0} initializes a variable to track the maximum.\n",
    "#{if ($5+0 > max) max=$5+0} checks if the current value in the fifth column exceeds the current maximum and updates it if so.\n",
    "#END {print ...} outputs the maximum number of passengers found.\n",
    "\n",
    "#Comment on the Value\n",
    "#The maximum of 112 passengers in a single taxi ride seems unreasonable given that a standard yellow taxi in NYC typically accommodates up to 4 passengers. \n",
    "#This value could indicate data errors, such as incorrect entries or misreported counts, rather than a realistic scenario in a typical taxi setting. \n",
    "#It's worth investigating the dataset for potential anomalies or outliers."
   ]
  },
  {
   "cell_type": "markdown",
   "id": "d863b6f8-925a-4353-bcc8-adea18fb14d4",
   "metadata": {
    "deletable": false,
    "editable": false,
    "nbgrader": {
     "cell_type": "markdown",
     "checksum": "b4519fe2dac9b89720943db352e0c564",
     "grade": false,
     "grade_id": "cell-b3aaf918978122a2",
     "locked": true,
     "schema_version": 3,
     "solution": false,
     "task": false
    }
   },
   "source": [
    "#### Q1.4: How many entries do *not* belong in August 2021, i.e. when a trip neither has pickup_datetime nor dropoff_datetime in August 2021?"
   ]
  },
  {
   "cell_type": "code",
   "execution_count": 6,
   "id": "be735075-7cbd-4c7f-a1c4-53144f5272cb",
   "metadata": {
    "deletable": false,
    "nbgrader": {
     "cell_type": "code",
     "checksum": "3d4f4a0b47a6265a432cedd414cf8135",
     "grade": true,
     "grade_id": "cell-b4c577635e203e59",
     "locked": false,
     "points": 0,
     "schema_version": 3,
     "solution": true,
     "task": false
    }
   },
   "outputs": [
    {
     "name": "stdout",
     "output_type": "stream",
     "text": [
      "3th column = tpep_pickup_datetime\n",
      "4th column = tpep_dropoff_datetime\n",
      "Entries not in August 2021: 476\n"
     ]
    }
   ],
   "source": [
    "%%bash\n",
    "\n",
    "# Check if dates are within August 2021\n",
    "head -n 1 2021_Yellow_Taxi_Trip_Data.csv | awk -F',' '{print \"3th column = \"$3}'\n",
    "head -n 1 2021_Yellow_Taxi_Trip_Data.csv | awk -F',' '{print \"4th column = \"$4}'\n",
    "tail -n +2 2021_Yellow_Taxi_Trip_Data.csv | awk -F',' '{if ($3 !~ /^2021-08/ && $4 !~ /^2021-08/) count++} END {print \"Entries not in August 2021:\", count}'\n",
    "\n",
    "#Explanation:\n",
    "#tail -n +2 skips the header and processes the rest of the file.\n",
    "#awk -F',' sets the comma as the field separator.\n",
    "#The condition checks if the first column (pickup_datetime) and second column (dropoff_datetime) do not start with \"2021-08\" (indicating August 2021).\n",
    "#If neither date is in August 2021, it increments the count.\n",
    "#Finally, it prints the total count of such entries."
   ]
  },
  {
   "cell_type": "markdown",
   "id": "29a81bd9-6b05-4aa3-ac53-4fbc3bb5b92b",
   "metadata": {
    "deletable": false,
    "editable": false,
    "nbgrader": {
     "cell_type": "markdown",
     "checksum": "814e53ed4dad9304ead19741d6469d79",
     "grade": false,
     "grade_id": "cell-fdfb6df7bcfa6620",
     "locked": true,
     "schema_version": 3,
     "solution": false,
     "task": false
    }
   },
   "source": [
    "## 2) Missing Values\n",
    "\n",
    "Next, we'll look at missing values. Missing values might be indicated in various different ways, e.g. NULL, NIL, None, Undefined, -1, empty strings, ...\n",
    "\n",
    "The column `passenger_count` has quite a lot of missing values."
   ]
  },
  {
   "cell_type": "markdown",
   "id": "aeeceb66-afda-48be-bb99-4a966b5ef0ee",
   "metadata": {
    "deletable": false,
    "editable": false,
    "nbgrader": {
     "cell_type": "markdown",
     "checksum": "eba33075368308f354f946082cf35c1a",
     "grade": false,
     "grade_id": "cell-e4c44d7845fb58ed",
     "locked": true,
     "schema_version": 3,
     "solution": false,
     "task": false
    }
   },
   "source": [
    "#### Q2.1: How many missing values are there in the `passenger_count` column?"
   ]
  },
  {
   "cell_type": "code",
   "execution_count": 7,
   "id": "8f9c9767-46f7-4d8e-bef0-cf91a41b1baf",
   "metadata": {
    "deletable": false,
    "nbgrader": {
     "cell_type": "code",
     "checksum": "f54fbdafd3b272b3142592c86b847068",
     "grade": true,
     "grade_id": "cell-0972109729c21a70",
     "locked": false,
     "points": 0,
     "schema_version": 3,
     "solution": true,
     "task": false
    }
   },
   "outputs": [
    {
     "name": "stdout",
     "output_type": "stream",
     "text": [
      "5th column = passenger_count\n",
      "Missing values in passenger_count: 135590\n"
     ]
    }
   ],
   "source": [
    "%%bash\n",
    "head -n 1 2021_Yellow_Taxi_Trip_Data.csv | awk -F',' '{print \"5th column = \"$5}'\n",
    "tail -n +2 2021_Yellow_Taxi_Trip_Data.csv | awk -F',' '{if ($5 == \"\" || $5 == \"NULL\" || $5 == \"NIL\" || $5 == \"None\" || $5 == \"Undefined\" || $5 == \"-1\") count++} END {print \"Missing values in passenger_count:\", count}'"
   ]
  },
  {
   "cell_type": "markdown",
   "id": "9944f38c-4e7e-4ddd-9b14-2249b2829825",
   "metadata": {
    "deletable": false,
    "editable": false,
    "nbgrader": {
     "cell_type": "markdown",
     "checksum": "46b7c0ba682a541ab2b5ac988324c8ce",
     "grade": false,
     "grade_id": "cell-d5cf12c16efcf5b9",
     "locked": true,
     "schema_version": 3,
     "solution": false,
     "task": false
    }
   },
   "source": [
    "#### Q2.2: Describe how you figured out what value is considered \"empty\"? Is the data set using NULL, -1 or something different? Come up with a clever way using UNIX tools!"
   ]
  },
  {
   "cell_type": "code",
   "execution_count": 8,
   "id": "4360c0d9-2f31-484a-adfb-511be5448555",
   "metadata": {
    "deletable": false,
    "nbgrader": {
     "cell_type": "code",
     "checksum": "e9834f4243b2ef8e964ad9990814a50b",
     "grade": true,
     "grade_id": "cell-6b76e82fbc52d3be",
     "locked": false,
     "points": 0,
     "schema_version": 3,
     "solution": true,
     "task": false
    }
   },
   "outputs": [
    {
     "name": "stdout",
     "output_type": "stream",
     "text": [
      "1911176 1.0\n",
      " 403250 2.0\n",
      " 135590 \n",
      " 110379 3.0\n",
      "  72888 0.0\n",
      "  68864 5.0\n",
      "  46898 4.0\n",
      "  39692 6.0\n",
      "     10 7.0\n",
      "      7 8.0\n",
      "      1 96.0\n",
      "      1 9.0\n",
      "      1 112.0\n",
      "### Summary of passenger_count Analysis\n",
      "\n",
      "#### Total Entries:\n",
      "Total Count of Records: 2788757\n",
      "\n",
      "#### Unique Values and Counts:\n",
      "| Count | Passenger Count |\n",
      "|-------|------------------|\n",
      "| 1911176 | 1.0              |\n",
      "| 403250 | 2.0              |\n",
      "| 135590 | (missing)        |\n",
      "| 110379 | 3.0              |\n",
      "| 72888 | 0.0              |\n",
      "| 68864 | 5.0              |\n",
      "| 46898 | 4.0              |\n",
      "| 39692 | 6.0              |\n",
      "| 10    | 7.0              |\n",
      "| 7     | 8.0              |\n",
      "| 1     | 96.0             |\n",
      "| 1     | 9.0              |\n",
      "| 1     | 112.0            |\n",
      "\n",
      "#### Findings:\n",
      "Count of Missing Values: 135590\n",
      "Count of 0.0 Entries: 72888\n",
      "Count of High Values (>6): 20\n",
      "\n",
      "### Conclusion:\n",
      "This analysis identifies significant missing values and unusual passenger counts in the passenger_count column.\n"
     ]
    }
   ],
   "source": [
    "%%bash\n",
    "\n",
    "# Display the values in the passenger_count column to understand empty representation\n",
    "tail -n +2 2021_Yellow_Taxi_Trip_Data.csv | awk -F',' '{print $5}' | sort | uniq -c | sort -nr\n",
    "\n",
    "#Another way\n",
    "echo \"### Summary of passenger_count Analysis\"\n",
    "echo \"\"\n",
    "echo \"#### Total Entries:\"\n",
    "tail -n +2 2021_Yellow_Taxi_Trip_Data.csv | wc -l | awk '{print \"Total Count of Records: \"$1}'\n",
    "echo \"\"\n",
    "echo \"#### Unique Values and Counts:\"\n",
    "tail -n +2 2021_Yellow_Taxi_Trip_Data.csv | awk -F',' '{print $5}' | sort | uniq -c | sort -nr | awk 'BEGIN {print \"| Count | Passenger Count |\"; print \"|-------|------------------|\"} {printf(\"| %-5s | %-16s |\\n\", $1, ($2 == \"\" ? \"(missing)\" : $2))}'\n",
    "echo \"\"\n",
    "echo \"#### Findings:\"\n",
    "tail -n +2 2021_Yellow_Taxi_Trip_Data.csv | awk -F',' '{if ($5 == \"\") count++} END {print \"Count of Missing Values: \" count}'\n",
    "tail -n +2 2021_Yellow_Taxi_Trip_Data.csv | awk -F',' '{if ($5 == \"0.0\") zero++} END {print \"Count of 0.0 Entries: \" zero}'\n",
    "tail -n +2 2021_Yellow_Taxi_Trip_Data.csv | awk -F',' '{if ($5 > 6) high++} END {print \"Count of High Values (>6): \" high}'\n",
    "echo \"\"\n",
    "echo \"### Conclusion:\"\n",
    "echo \"This analysis identifies significant missing values and unusual passenger counts in the passenger_count column.\"\n"
   ]
  },
  {
   "cell_type": "markdown",
   "id": "8fd1600b-e09b-49e9-8bb8-4671d78b95f1",
   "metadata": {
    "deletable": false,
    "editable": false,
    "nbgrader": {
     "cell_type": "markdown",
     "checksum": "d28ec4bb93bd1a4a6e64f1f58e4a4956",
     "grade": false,
     "grade_id": "cell-59866f65380d1a33",
     "locked": true,
     "schema_version": 3,
     "solution": false,
     "task": false
    }
   },
   "source": [
    "## 3) Distributions\n",
    "\n",
    "Another important piece of information about a data set is a notion of distribution. Data sets might be \"top-heavy\", i.e. a significant portion of data points are concentrated towards the higher end of the scale, or \"bottom-heavy\", which is just the opposite of top-heavy. When it comes to heavily skewed data distributions, it's important to understand that single metrics like a MEAN don't fully describe the \"average characteristics\". A property of top-heavy data sets is that the MEAN is larger than the MEDIAN because there are some large values that pull up the MEDIAN. As we will see in a minute, `passenger_count` is a bottom-heavy distribution.\n",
    "\n",
    "\n",
    "\n",
    "\n",
    "Let's have a closer look at the `passenger_count` column in this exercise. Only use UNIX tools that are installed per default. No Python scripting, datamash or whatever ;)"
   ]
  },
  {
   "cell_type": "markdown",
   "id": "20cdc6dd-92e2-4570-b8db-024c9ed74eb1",
   "metadata": {
    "deletable": false,
    "editable": false,
    "nbgrader": {
     "cell_type": "markdown",
     "checksum": "320a36d70fd2beee4258e8e721c0353d",
     "grade": false,
     "grade_id": "cell-93f05a68c5381be5",
     "locked": true,
     "schema_version": 3,
     "solution": false,
     "task": false
    }
   },
   "source": []
  },
  {
   "cell_type": "code",
   "execution_count": 9,
   "id": "035fc13a-db94-445a-a6fe-cda5a495d410",
   "metadata": {
    "deletable": false,
    "nbgrader": {
     "cell_type": "code",
     "checksum": "4a800dbfe984e864fabc96cdf1be6b3d",
     "grade": true,
     "grade_id": "cell-d4c4ab51052ac43e",
     "locked": false,
     "points": 0,
     "schema_version": 3,
     "solution": true,
     "task": false
    }
   },
   "outputs": [
    {
     "name": "stdout",
     "output_type": "stream",
     "text": [
      "Mean passenger count: 1.48016\n"
     ]
    }
   ],
   "source": [
    "%%bash\n",
    "tail -n +2 2021_Yellow_Taxi_Trip_Data.csv | awk -F',' '{if ($5 + 0 > 0) {sum += $5; count++}} END {if (count > 0) print \"Mean passenger count:\", sum/count; else print \"No valid entries found.\"}'\n",
    "\n",
    "#Explanation:\n",
    "#tail -n +2: Skips the header row to focus on the data.\n",
    "#awk -F',': Sets the field separator to a comma.\n",
    "#if ($5 + 0 > 0): Ensures that only valid passenger counts (greater than 0) are considered for the mean calculation.\n",
    "#sum += $5: Accumulates the sum of the valid passenger counts.\n",
    "#count++: Increments the count of valid entries.\n",
    "#END Block: After processing all entries, it calculates and prints the mean if there are valid counts."
   ]
  },
  {
   "cell_type": "markdown",
   "id": "1b965e64-f170-44c2-9fd8-1db39ecc3564",
   "metadata": {
    "deletable": false,
    "editable": false,
    "nbgrader": {
     "cell_type": "markdown",
     "checksum": "c87d37eba9db3572a951e561b8271082",
     "grade": false,
     "grade_id": "cell-7a349ded0a550c7c",
     "locked": true,
     "schema_version": 3,
     "solution": false,
     "task": false
    }
   },
   "source": [
    "#### Q3.2: What is the median value for the number of passengers?\n",
    "\n",
    "_Note: This one is surprisingly tricky. You can assume that you have the number of entries in the data set. Extra points if manage to compute it without any assumptions about the size of the data set._"
   ]
  },
  {
   "cell_type": "code",
   "execution_count": 10,
   "id": "cdd8023e-83cf-44dc-abb4-11d87e8bf102",
   "metadata": {
    "deletable": false,
    "nbgrader": {
     "cell_type": "code",
     "checksum": "54516efe0aa07e4ec83643278e7ffa5a",
     "grade": true,
     "grade_id": "cell-70630bb1674535a9",
     "locked": false,
     "points": 0,
     "schema_version": 3,
     "solution": true,
     "task": false
    }
   },
   "outputs": [
    {
     "name": "stdout",
     "output_type": "stream",
     "text": [
      "Median passenger count: 1.0\n"
     ]
    }
   ],
   "source": [
    "%%bash\n",
    "\n",
    "tail -n +2 2021_Yellow_Taxi_Trip_Data.csv | awk -F',' '{if ($5 + 0 > 0) print $5}' | sort -n | awk '{\n",
    "    count[NR] = $1\n",
    "} END {\n",
    "    n = NR\n",
    "    if (n % 2 == 1) {\n",
    "        median = count[int(n / 2)]\n",
    "    } else {\n",
    "        median = (count[n / 2 - 1] + count[n / 2]) / 2\n",
    "    }\n",
    "    print \"Median passenger count:\", median\n",
    "}'\n",
    "\n",
    "#Explanation:\n",
    "#Extract Valid Counts: The first awk command extracts valid passenger counts (greater than 0) from the fifth column.\n",
    "#Sort the Values: The sort -n command sorts the values numerically.\n",
    "#Store in Array: The second awk command stores the sorted counts in an array.\n",
    "#Calculate Median:\n",
    "#It checks if the number of entries (NR) is odd or even.\n",
    "#It calculates the median based on the number of entries.\n",
    "#Output: Finally, it prints the median passenger count."
   ]
  },
  {
   "cell_type": "markdown",
   "id": "964d150e-7d54-484f-96c8-825e5632aa54",
   "metadata": {
    "deletable": false,
    "editable": false,
    "nbgrader": {
     "cell_type": "markdown",
     "checksum": "377bc1df0e93ee32e13e34d8c7744790",
     "grade": false,
     "grade_id": "cell-1d28fa0dfb6ca1e8",
     "locked": true,
     "schema_version": 3,
     "solution": false,
     "task": false
    }
   },
   "source": [
    "#### Q3.3: What is the p95 value for passenger count?"
   ]
  },
  {
   "cell_type": "code",
   "execution_count": 11,
   "id": "0f1d2d1e-83d1-4a9d-ab77-9dc2fd709a59",
   "metadata": {
    "deletable": false,
    "nbgrader": {
     "cell_type": "code",
     "checksum": "4bcb556b58e433c047ba886dca4584df",
     "grade": true,
     "grade_id": "cell-911f11176c7d119d",
     "locked": false,
     "points": 0,
     "schema_version": 3,
     "solution": true,
     "task": false
    }
   },
   "outputs": [
    {
     "name": "stdout",
     "output_type": "stream",
     "text": [
      "p95 passenger count: 4.0\n"
     ]
    }
   ],
   "source": [
    "%%bash\n",
    "tail -n +2 2021_Yellow_Taxi_Trip_Data.csv | awk -F',' '{if ($5 + 0 > 0) print $5}' | sort -n | awk '{\n",
    "    count[NR] = $1\n",
    "} END {\n",
    "    n = NR\n",
    "    p95_index = int(n * 0.95) - 1  # 0-based index for 95th percentile\n",
    "    if (p95_index >= 0) {\n",
    "        print \"p95 passenger count:\", count[p95_index]\n",
    "    } else {\n",
    "        print \"No valid entries found.\"\n",
    "    }\n",
    "}'\n",
    "\n",
    "#Explanation:\n",
    "#Extract Valid Counts: The first awk command extracts valid passenger counts (greater than 0) from the fifth column.\n",
    "#Sort the Values: The sort -n command sorts these values numerically.\n",
    "#Store in Array: The second awk command stores the sorted counts in an array.\n",
    "#Calculate p95:\n",
    "#It calculates the index for the 95th percentile using int(n * 0.95) - 1 to convert it to a zero-based index.\n",
    "#It checks if the index is valid and retrieves the corresponding value.\n",
    "#Output: Finally, it prints the p95 passenger count."
   ]
  },
  {
   "cell_type": "markdown",
   "id": "c5e106cd-8b02-4292-a6f7-663fc1982c81",
   "metadata": {
    "deletable": false,
    "editable": false,
    "nbgrader": {
     "cell_type": "markdown",
     "checksum": "99633335c22aa8be05abdd3df356e943",
     "grade": false,
     "grade_id": "cell-2b45e3176ae38908",
     "locked": true,
     "schema_version": 3,
     "solution": false,
     "task": false
    }
   },
   "source": [
    "#### Q3.4 How many distinct values (NDV) are there for the `passenger_count` column?"
   ]
  },
  {
   "cell_type": "code",
   "execution_count": 12,
   "id": "12a6678b-2e57-48dd-a155-dcaa910ebf2a",
   "metadata": {
    "deletable": false,
    "nbgrader": {
     "cell_type": "code",
     "checksum": "6ea186819fdcb1d009e7e0cdcb0b4292",
     "grade": true,
     "grade_id": "cell-d2a48fee591c26a7",
     "locked": false,
     "points": 0,
     "schema_version": 3,
     "solution": true,
     "task": false
    }
   },
   "outputs": [
    {
     "name": "stdout",
     "output_type": "stream",
     "text": [
      "12\n"
     ]
    }
   ],
   "source": [
    "%%bash\n",
    "tail -n +2 2021_Yellow_Taxi_Trip_Data.csv | awk -F',' '{if ($5 + 0 >= 0) print $5}' | sort -nu | wc -l\n",
    "\n",
    "#Explanation:\n",
    "#tail -n +2: Skips the header row to process only the data rows.\n",
    "#awk -F',' '{if ($5 + 0 >= 0) print $5}': Extracts the fifth column (passenger count) and prints only valid counts (including 0).\n",
    "#sort -nu: Sorts the values numerically and removes duplicates (-n for numeric sorting, -u for unique).\n",
    "#wc -l: Counts the number of lines, which corresponds to the number of distinct values"
   ]
  },
  {
   "cell_type": "markdown",
   "id": "d5dcd675-4748-490a-8b18-6da07efef7ae",
   "metadata": {
    "deletable": false,
    "editable": false,
    "nbgrader": {
     "cell_type": "markdown",
     "checksum": "a33d0bf54e37d548bdbb5f765555e0ee",
     "grade": false,
     "grade_id": "cell-9924347941b82e98",
     "locked": true,
     "schema_version": 3,
     "solution": false,
     "task": false
    }
   },
   "source": [
    "-------\n",
    "# Part 2: Beyond Bash: SQL\n",
    "\n",
    "You might have noticed that UNIX commands can get pretty complex and are sometimes hard to understand. Also, their performance is sometimes not the best.\n",
    "In the second part of this exercise you get the chance to do the same thing again, but in SQL. For this, we use DuckDB inside this notebook.\n",
    "\n",
    "To use DuckDb, you first have to install it (see also https://duckdb.org/docs/guides/python/jupyter.html):\n",
    "```\n",
    "pip install duckdb\n",
    "pip install jupysql\n",
    "pip install duckdb-engine\n",
    "pip install pandas\n",
    "pip install matplotlib\n",
    "```\n",
    "\n",
    "If you installed everything correctly, the following cell should just work:"
   ]
  },
  {
   "cell_type": "code",
   "execution_count": 13,
   "id": "f35b24aa-eba7-4e93-849c-86bee719fdca",
   "metadata": {
    "deletable": false,
    "editable": false,
    "nbgrader": {
     "cell_type": "code",
     "checksum": "ad883be3802dd4cec3758c773f273c2c",
     "grade": false,
     "grade_id": "cell-26d49d95a4bbeadd",
     "locked": true,
     "schema_version": 3,
     "solution": false,
     "task": false
    }
   },
   "outputs": [
    {
     "data": {
      "text/html": [
       "<span style=\"None\">Connecting to &#x27;duckdb:///:memory:&#x27;</span>"
      ],
      "text/plain": [
       "Connecting to 'duckdb:///:memory:'"
      ]
     },
     "metadata": {},
     "output_type": "display_data"
    }
   ],
   "source": [
    "import duckdb\n",
    "import pandas as pd\n",
    "\n",
    "# Enable using '%sql' syntax in notebooks:\n",
    "%reload_ext sql\n",
    "# Initialize DuckDB\n",
    "%sql duckdb:///:memory:\n",
    "# Set output format options via pandas for DuckDB\n",
    "pd.set_option('display.max_columns', None)\n",
    "\n",
    "%config SqlMagic.autopandas = True\n",
    "%config SqlMagic.feedback = False\n",
    "%config SqlMagic.displaycon = False"
   ]
  },
  {
   "cell_type": "code",
   "execution_count": 14,
   "id": "bfe2c64b-f160-49fb-8d6d-769ae7386982",
   "metadata": {
    "deletable": false,
    "editable": false,
    "nbgrader": {
     "cell_type": "code",
     "checksum": "d5cfa87f4dff8d8a2265d9ed9da44a04",
     "grade": false,
     "grade_id": "cell-3962ca65ff2cf8bd",
     "locked": true,
     "schema_version": 3,
     "solution": false,
     "task": false
    }
   },
   "outputs": [
    {
     "data": {
      "text/html": [
       "<div>\n",
       "<style scoped>\n",
       "    .dataframe tbody tr th:only-of-type {\n",
       "        vertical-align: middle;\n",
       "    }\n",
       "\n",
       "    .dataframe tbody tr th {\n",
       "        vertical-align: top;\n",
       "    }\n",
       "\n",
       "    .dataframe thead th {\n",
       "        text-align: right;\n",
       "    }\n",
       "</style>\n",
       "<table border=\"1\" class=\"dataframe\">\n",
       "  <thead>\n",
       "    <tr style=\"text-align: right;\">\n",
       "      <th></th>\n",
       "      <th>cnt</th>\n",
       "    </tr>\n",
       "  </thead>\n",
       "  <tbody>\n",
       "    <tr>\n",
       "      <th>0</th>\n",
       "      <td>2788757</td>\n",
       "    </tr>\n",
       "  </tbody>\n",
       "</table>\n",
       "</div>"
      ],
      "text/plain": [
       "       cnt\n",
       "0  2788757"
      ]
     },
     "execution_count": 14,
     "metadata": {},
     "output_type": "execute_result"
    }
   ],
   "source": [
    "# Test that everything works by running a test-query on the input file using DuckDB.\n",
    "%sql select count(*) as cnt from '2021_Yellow_Taxi_Trip_Data.csv';"
   ]
  },
  {
   "cell_type": "markdown",
   "id": "e4387645-601c-4c69-87bc-dcc0a88ae5ec",
   "metadata": {
    "deletable": false,
    "editable": false,
    "nbgrader": {
     "cell_type": "markdown",
     "checksum": "80cab817f1374aad82a529607644a7bd",
     "grade": false,
     "grade_id": "cell-09c37cef8a5888d7",
     "locked": true,
     "schema_version": 3,
     "solution": false,
     "task": false
    }
   },
   "source": [
    "#### Q4.1: What is the trip that had the most expensive `total_amount`?"
   ]
  },
  {
   "cell_type": "code",
   "execution_count": 15,
   "id": "3fe7cd40-9a31-4c65-88b2-554a0b7dbcd5",
   "metadata": {
    "deletable": false,
    "nbgrader": {
     "cell_type": "code",
     "checksum": "795d7603217ac90ede02cf27a552db4f",
     "grade": false,
     "grade_id": "cell-8b237dfc93a2d402",
     "locked": false,
     "schema_version": 3,
     "solution": true,
     "task": false
    }
   },
   "outputs": [
    {
     "data": {
      "text/html": [
       "<div>\n",
       "<style scoped>\n",
       "    .dataframe tbody tr th:only-of-type {\n",
       "        vertical-align: middle;\n",
       "    }\n",
       "\n",
       "    .dataframe tbody tr th {\n",
       "        vertical-align: top;\n",
       "    }\n",
       "\n",
       "    .dataframe thead th {\n",
       "        text-align: right;\n",
       "    }\n",
       "</style>\n",
       "<table border=\"1\" class=\"dataframe\">\n",
       "  <thead>\n",
       "    <tr style=\"text-align: right;\">\n",
       "      <th></th>\n",
       "      <th>max(total_amount)</th>\n",
       "    </tr>\n",
       "  </thead>\n",
       "  <tbody>\n",
       "    <tr>\n",
       "      <th>0</th>\n",
       "      <td>959.31</td>\n",
       "    </tr>\n",
       "  </tbody>\n",
       "</table>\n",
       "</div>"
      ],
      "text/plain": [
       "   max(total_amount)\n",
       "0             959.31"
      ]
     },
     "execution_count": 15,
     "metadata": {},
     "output_type": "execute_result"
    }
   ],
   "source": [
    "# Answer:\n",
    "\n",
    "%sql SELECT MAX(total_amount) FROM '2021_Yellow_Taxi_Trip_Data.csv';\n"
   ]
  },
  {
   "cell_type": "code",
   "execution_count": 16,
   "id": "10e9370f-ed5f-4754-91d0-8ca601c7cf5a",
   "metadata": {
    "deletable": false,
    "editable": false,
    "nbgrader": {
     "cell_type": "code",
     "checksum": "396988e74695156fb533909c35ecca01",
     "grade": true,
     "grade_id": "cell-39d84a3edd194379",
     "locked": true,
     "points": 0,
     "schema_version": 3,
     "solution": false,
     "task": false
    }
   },
   "outputs": [],
   "source": [
    "# Cell is used for grading. Do not remove."
   ]
  },
  {
   "cell_type": "markdown",
   "id": "595cfe75-2ca7-4869-9512-1acb948db32a",
   "metadata": {
    "deletable": false,
    "editable": false,
    "nbgrader": {
     "cell_type": "markdown",
     "checksum": "40fe0c2514f963bf0ac468cde69053a4",
     "grade": false,
     "grade_id": "cell-5a7d150cb871cea6",
     "locked": true,
     "schema_version": 3,
     "solution": false,
     "task": false
    }
   },
   "source": [
    "#### Q4.2: What's the distance of the longest and shortest trip in kilometers?"
   ]
  },
  {
   "cell_type": "code",
   "execution_count": 3,
   "id": "582492bb-7a98-4509-8c3a-ae08e259aab6",
   "metadata": {
    "deletable": false,
    "nbgrader": {
     "cell_type": "code",
     "checksum": "d89eeea770e1f608ec78cfa3488eb049",
     "grade": false,
     "grade_id": "cell-10a04be0f45c2670",
     "locked": false,
     "schema_version": 3,
     "solution": true,
     "task": false
    }
   },
   "outputs": [
    {
     "name": "stderr",
     "output_type": "stream",
     "text": [
      "UsageError: Line magic function `%sql` not found.\n"
     ]
    }
   ],
   "source": [
    "%sql SELECT MAX(trip_distance) * 1.60934 AS longest_trip_km, MIN(trip_distance) * 1.60934 AS shortest_trip_km FROM '2021_Yellow_Taxi_Trip_Data.csv' WHERE trip_distance > 0;"
   ]
  },
  {
   "cell_type": "code",
   "execution_count": 18,
   "id": "be05d7a7-e6c1-4438-b7d8-af54ad1e6ad8",
   "metadata": {
    "deletable": false,
    "editable": false,
    "nbgrader": {
     "cell_type": "code",
     "checksum": "69b234533f1ecd20f7e7e518cb37ffc7",
     "grade": true,
     "grade_id": "cell-ad834f060dbc25fc",
     "locked": true,
     "points": 0,
     "schema_version": 3,
     "solution": false,
     "task": false
    }
   },
   "outputs": [],
   "source": [
    "# Cell is used for grading. Do not remove."
   ]
  },
  {
   "cell_type": "markdown",
   "id": "e3a63e4f-9c76-4bcb-afd6-487517e0eb48",
   "metadata": {
    "deletable": false,
    "editable": false,
    "nbgrader": {
     "cell_type": "markdown",
     "checksum": "f629312714fc64aa587701bdaee391bf",
     "grade": false,
     "grade_id": "cell-caf0fc06dbdd838d",
     "locked": true,
     "schema_version": 3,
     "solution": false,
     "task": false
    }
   },
   "source": [
    "#### Q4.3: What is the maximum number of passengers on a single taxi ride?"
   ]
  },
  {
   "cell_type": "code",
   "execution_count": 19,
   "id": "097d4f3d-8527-46e0-8d66-ea9f7fecef09",
   "metadata": {
    "deletable": false,
    "nbgrader": {
     "cell_type": "code",
     "checksum": "b46a825d7387d2ce6a0f080f4153b424",
     "grade": false,
     "grade_id": "cell-9b9047617df6ebfb",
     "locked": false,
     "schema_version": 3,
     "solution": true,
     "task": false
    }
   },
   "outputs": [
    {
     "data": {
      "text/html": [
       "<div>\n",
       "<style scoped>\n",
       "    .dataframe tbody tr th:only-of-type {\n",
       "        vertical-align: middle;\n",
       "    }\n",
       "\n",
       "    .dataframe tbody tr th {\n",
       "        vertical-align: top;\n",
       "    }\n",
       "\n",
       "    .dataframe thead th {\n",
       "        text-align: right;\n",
       "    }\n",
       "</style>\n",
       "<table border=\"1\" class=\"dataframe\">\n",
       "  <thead>\n",
       "    <tr style=\"text-align: right;\">\n",
       "      <th></th>\n",
       "      <th>max(passenger_count)</th>\n",
       "    </tr>\n",
       "  </thead>\n",
       "  <tbody>\n",
       "    <tr>\n",
       "      <th>0</th>\n",
       "      <td>112.0</td>\n",
       "    </tr>\n",
       "  </tbody>\n",
       "</table>\n",
       "</div>"
      ],
      "text/plain": [
       "   max(passenger_count)\n",
       "0                 112.0"
      ]
     },
     "execution_count": 19,
     "metadata": {},
     "output_type": "execute_result"
    }
   ],
   "source": [
    "# Answer:\n",
    "\n",
    "%sql SELECT MAX(passenger_count) FROM '2021_Yellow_Taxi_Trip_Data.csv';"
   ]
  },
  {
   "cell_type": "code",
   "execution_count": 20,
   "id": "423b5beb-3a5f-4814-a2f7-f6711d170ba4",
   "metadata": {
    "deletable": false,
    "editable": false,
    "nbgrader": {
     "cell_type": "code",
     "checksum": "b66715eba48345acfbec3beba3673ef2",
     "grade": true,
     "grade_id": "cell-1148da0e3fe58989",
     "locked": true,
     "points": 0,
     "schema_version": 3,
     "solution": false,
     "task": false
    }
   },
   "outputs": [],
   "source": [
    "# Cell is used for grading. Do not remove."
   ]
  },
  {
   "cell_type": "markdown",
   "id": "65c1f3c8-13a4-4e86-8b2e-fa83a96a7884",
   "metadata": {
    "deletable": false,
    "editable": false,
    "nbgrader": {
     "cell_type": "markdown",
     "checksum": "58da4e7126d9d4fb883c34b10f9e1228",
     "grade": false,
     "grade_id": "cell-72b96eae0e2d2130",
     "locked": true,
     "schema_version": 3,
     "solution": false,
     "task": false
    }
   },
   "source": [
    "    #### Q4.4: How many entries do not belong in August 2021, i.e. when a trip neither has pickup_datetime nor dropoff_datetime in August 2021?"
   ]
  },
  {
   "cell_type": "code",
   "execution_count": 21,
   "id": "9dcc9ee2-0a73-42d2-98c7-086e0ec06edf",
   "metadata": {
    "deletable": false,
    "nbgrader": {
     "cell_type": "code",
     "checksum": "30cc9b35c2f05813dc887c3ff33b0db1",
     "grade": false,
     "grade_id": "cell-36b840c259fb28cb",
     "locked": false,
     "schema_version": 3,
     "solution": true,
     "task": false
    }
   },
   "outputs": [
    {
     "data": {
      "text/html": [
       "<div>\n",
       "<style scoped>\n",
       "    .dataframe tbody tr th:only-of-type {\n",
       "        vertical-align: middle;\n",
       "    }\n",
       "\n",
       "    .dataframe tbody tr th {\n",
       "        vertical-align: top;\n",
       "    }\n",
       "\n",
       "    .dataframe thead th {\n",
       "        text-align: right;\n",
       "    }\n",
       "</style>\n",
       "<table border=\"1\" class=\"dataframe\">\n",
       "  <thead>\n",
       "    <tr style=\"text-align: right;\">\n",
       "      <th></th>\n",
       "      <th>non_august_entries</th>\n",
       "    </tr>\n",
       "  </thead>\n",
       "  <tbody>\n",
       "    <tr>\n",
       "      <th>0</th>\n",
       "      <td>476</td>\n",
       "    </tr>\n",
       "  </tbody>\n",
       "</table>\n",
       "</div>"
      ],
      "text/plain": [
       "   non_august_entries\n",
       "0                 476"
      ]
     },
     "execution_count": 21,
     "metadata": {},
     "output_type": "execute_result"
    }
   ],
   "source": [
    "# Answer:\n",
    "%sql SELECT COUNT(*) AS non_august_entries FROM \"2021_Yellow_Taxi_Trip_Data.csv\" WHERE NOT ((tpep_pickup_datetime >= '2021-08-01' AND tpep_pickup_datetime < '2021-09-01') OR (tpep_dropoff_datetime >= '2021-08-01' AND tpep_dropoff_datetime < '2021-09-01'));"
   ]
  },
  {
   "cell_type": "code",
   "execution_count": 22,
   "id": "fcd20cdb-81ac-44b1-aba5-615ee181b74e",
   "metadata": {
    "deletable": false,
    "editable": false,
    "nbgrader": {
     "cell_type": "code",
     "checksum": "b38f83a0d712390e7207ce9073798c8b",
     "grade": true,
     "grade_id": "cell-58132598a94ad3dd",
     "locked": true,
     "points": 0,
     "schema_version": 3,
     "solution": false,
     "task": false
    }
   },
   "outputs": [],
   "source": [
    "# Cell is used for grading. Do not remove."
   ]
  },
  {
   "cell_type": "markdown",
   "id": "8d9d30a6-3992-4567-88d0-317f89684ba2",
   "metadata": {
    "deletable": false,
    "editable": false,
    "nbgrader": {
     "cell_type": "markdown",
     "checksum": "5611a9c7be825303c76ea47a8ba9e10a",
     "grade": false,
     "grade_id": "cell-e7a3e0f9ecce708c",
     "locked": true,
     "schema_version": 3,
     "solution": false,
     "task": false
    }
   },
   "source": [
    "#### Q4.5: How many missing values are there in the `passenger_count` column?"
   ]
  },
  {
   "cell_type": "code",
   "execution_count": 23,
   "id": "4312ce13-90e7-4f12-863f-b1a6a7322369",
   "metadata": {
    "deletable": false,
    "nbgrader": {
     "cell_type": "code",
     "checksum": "ebe7b5d888dedb75b64baf6823b8f7c0",
     "grade": false,
     "grade_id": "cell-a7af5d3bf72008f7",
     "locked": false,
     "schema_version": 3,
     "solution": true,
     "task": false
    }
   },
   "outputs": [
    {
     "data": {
      "text/html": [
       "<div>\n",
       "<style scoped>\n",
       "    .dataframe tbody tr th:only-of-type {\n",
       "        vertical-align: middle;\n",
       "    }\n",
       "\n",
       "    .dataframe tbody tr th {\n",
       "        vertical-align: top;\n",
       "    }\n",
       "\n",
       "    .dataframe thead th {\n",
       "        text-align: right;\n",
       "    }\n",
       "</style>\n",
       "<table border=\"1\" class=\"dataframe\">\n",
       "  <thead>\n",
       "    <tr style=\"text-align: right;\">\n",
       "      <th></th>\n",
       "      <th>count_star()</th>\n",
       "    </tr>\n",
       "  </thead>\n",
       "  <tbody>\n",
       "    <tr>\n",
       "      <th>0</th>\n",
       "      <td>135590</td>\n",
       "    </tr>\n",
       "  </tbody>\n",
       "</table>\n",
       "</div>"
      ],
      "text/plain": [
       "   count_star()\n",
       "0        135590"
      ]
     },
     "execution_count": 23,
     "metadata": {},
     "output_type": "execute_result"
    }
   ],
   "source": [
    "# Answer:\n",
    "\n",
    "%sql SELECT COUNT(*) FROM '2021_Yellow_Taxi_Trip_Data.csv' WHERE passenger_count IS NULL;\n"
   ]
  },
  {
   "cell_type": "code",
   "execution_count": 24,
   "id": "1ad2e6a9-a582-4b0c-b79d-5aa766e332c1",
   "metadata": {
    "deletable": false,
    "editable": false,
    "nbgrader": {
     "cell_type": "code",
     "checksum": "cfde1d68c6fa234f40a0f9e2dca81c7f",
     "grade": true,
     "grade_id": "cell-89639f5a635ddd05",
     "locked": true,
     "points": 0,
     "schema_version": 3,
     "solution": false,
     "task": false
    }
   },
   "outputs": [],
   "source": [
    "# Cell is used for grading. Do not remove."
   ]
  },
  {
   "cell_type": "markdown",
   "id": "c94dcc73-2886-4c98-9add-29954efa0a54",
   "metadata": {
    "deletable": false,
    "editable": false,
    "nbgrader": {
     "cell_type": "markdown",
     "checksum": "f4b612d5dde42980c9956b5df7faadd2",
     "grade": false,
     "grade_id": "cell-9b3195648eb933ed",
     "locked": true,
     "schema_version": 3,
     "solution": false,
     "task": false
    }
   },
   "source": [
    "#### Q4.6: What are the mean, median, p95, and number of distinct values (NDV) for the number of passengers? Return all of the numbers in just one query."
   ]
  },
  {
   "cell_type": "code",
   "execution_count": 25,
   "id": "6cc559fe-5dee-45c4-b178-d35ffb4d484d",
   "metadata": {
    "deletable": false,
    "nbgrader": {
     "cell_type": "code",
     "checksum": "dabce6d425a88401276654efe49bff25",
     "grade": false,
     "grade_id": "cell-ee3c0a7f87504afd",
     "locked": false,
     "schema_version": 3,
     "solution": true,
     "task": false
    }
   },
   "outputs": [
    {
     "data": {
      "text/html": [
       "<div>\n",
       "<style scoped>\n",
       "    .dataframe tbody tr th:only-of-type {\n",
       "        vertical-align: middle;\n",
       "    }\n",
       "\n",
       "    .dataframe tbody tr th {\n",
       "        vertical-align: top;\n",
       "    }\n",
       "\n",
       "    .dataframe thead th {\n",
       "        text-align: right;\n",
       "    }\n",
       "</style>\n",
       "<table border=\"1\" class=\"dataframe\">\n",
       "  <thead>\n",
       "    <tr style=\"text-align: right;\">\n",
       "      <th></th>\n",
       "      <th>mean</th>\n",
       "      <th>median</th>\n",
       "      <th>p95</th>\n",
       "      <th>ndv</th>\n",
       "    </tr>\n",
       "  </thead>\n",
       "  <tbody>\n",
       "    <tr>\n",
       "      <th>0</th>\n",
       "      <td>1.439495</td>\n",
       "      <td>1.0</td>\n",
       "      <td>4.0</td>\n",
       "      <td>12</td>\n",
       "    </tr>\n",
       "  </tbody>\n",
       "</table>\n",
       "</div>"
      ],
      "text/plain": [
       "       mean  median  p95  ndv\n",
       "0  1.439495     1.0  4.0   12"
      ]
     },
     "execution_count": 25,
     "metadata": {},
     "output_type": "execute_result"
    }
   ],
   "source": [
    "# Answer:\n",
    "%sql WITH sorted_passenger_counts AS (SELECT passenger_count, ROW_NUMBER() OVER (ORDER BY passenger_count) AS rn, COUNT(*) OVER () AS total FROM '2021_Yellow_Taxi_Trip_Data.csv') SELECT AVG(passenger_count) AS mean, PERCENTILE_CONT(0.5) WITHIN GROUP (ORDER BY passenger_count) AS median, PERCENTILE_CONT(0.95) WITHIN GROUP (ORDER BY passenger_count) AS p95, COUNT(DISTINCT passenger_count) AS ndv FROM sorted_passenger_counts;"
   ]
  },
  {
   "cell_type": "code",
   "execution_count": 26,
   "id": "b383cabd-e38f-499b-b2f6-96aae5db4ed1",
   "metadata": {
    "deletable": false,
    "editable": false,
    "nbgrader": {
     "cell_type": "code",
     "checksum": "57b40e0b5d794ada835636cf017d9ead",
     "grade": true,
     "grade_id": "cell-6cbf3a2036e343f7",
     "locked": true,
     "points": 0,
     "schema_version": 3,
     "solution": false,
     "task": false
    }
   },
   "outputs": [],
   "source": [
    "# Cell is used for grading. Do not remove."
   ]
  },
  {
   "cell_type": "markdown",
   "id": "08aec870-0a04-4852-bbbf-3dc91a74ea04",
   "metadata": {
    "deletable": false,
    "editable": false,
    "nbgrader": {
     "cell_type": "markdown",
     "checksum": "7e3700175ad19334e6f8ceae7c75ecab",
     "grade": false,
     "grade_id": "cell-484b207bdef28a1b",
     "locked": true,
     "schema_version": 3,
     "solution": false,
     "task": false
    }
   },
   "source": [
    "-------\n",
    "# Part 3: More advanced SQL\n",
    "\n",
    "With SQL, we can do some more advanced analytics as well. This exercise will give you the chance to refresh and brush up your SQL skills.\n",
    "\n",
    "The following tasks require more features that SQL provides, e.g. joins, aggregations, ..."
   ]
  },
  {
   "cell_type": "markdown",
   "id": "94ba80ac-16d5-430e-ac17-be4e05c57631",
   "metadata": {
    "deletable": false,
    "editable": false,
    "nbgrader": {
     "cell_type": "markdown",
     "checksum": "02943617e9b554258ffc3809f330705c",
     "grade": false,
     "grade_id": "cell-863447bd41c2a020",
     "locked": true,
     "schema_version": 3,
     "solution": false,
     "task": false
    }
   },
   "source": [
    "#### Q5.1: What was the day when the most money was earned by drivers?\n",
    "At what day in August 2021 was the accumulated money that was spent by customers the highest?\n",
    "\n",
    "_Note: Think about whether pickup or dropoff time should be used._"
   ]
  },
  {
   "cell_type": "code",
   "execution_count": 27,
   "id": "e9c2b933-305c-4f02-b8a6-92039e8c98f4",
   "metadata": {
    "deletable": false,
    "nbgrader": {
     "cell_type": "code",
     "checksum": "38355f6433fec65c7a5a36b63bb49f8e",
     "grade": false,
     "grade_id": "cell-eb5590ab33e51e08",
     "locked": false,
     "schema_version": 3,
     "solution": true,
     "task": false
    }
   },
   "outputs": [
    {
     "data": {
      "text/html": [
       "<div>\n",
       "<style scoped>\n",
       "    .dataframe tbody tr th:only-of-type {\n",
       "        vertical-align: middle;\n",
       "    }\n",
       "\n",
       "    .dataframe tbody tr th {\n",
       "        vertical-align: top;\n",
       "    }\n",
       "\n",
       "    .dataframe thead th {\n",
       "        text-align: right;\n",
       "    }\n",
       "</style>\n",
       "<table border=\"1\" class=\"dataframe\">\n",
       "  <thead>\n",
       "    <tr style=\"text-align: right;\">\n",
       "      <th></th>\n",
       "      <th>day</th>\n",
       "      <th>total_amount</th>\n",
       "    </tr>\n",
       "  </thead>\n",
       "  <tbody>\n",
       "    <tr>\n",
       "      <th>0</th>\n",
       "      <td>2021-08-20</td>\n",
       "      <td>2.030784e+06</td>\n",
       "    </tr>\n",
       "  </tbody>\n",
       "</table>\n",
       "</div>"
      ],
      "text/plain": [
       "         day  total_amount\n",
       "0 2021-08-20  2.030784e+06"
      ]
     },
     "execution_count": 27,
     "metadata": {},
     "output_type": "execute_result"
    }
   ],
   "source": [
    "# Answer:\n",
    "%sql SELECT CAST(tpep_pickup_datetime AS DATE) AS day, SUM(total_amount) AS total_amount FROM '2021_Yellow_Taxi_Trip_Data.csv' WHERE tpep_pickup_datetime >= '2021-08-01' AND tpep_pickup_datetime < '2021-09-01' GROUP BY day ORDER BY total_amount DESC LIMIT 1;"
   ]
  },
  {
   "cell_type": "code",
   "execution_count": 28,
   "id": "b421bf3d-5a20-46f2-9424-90f7cf1e77e9",
   "metadata": {
    "deletable": false,
    "editable": false,
    "nbgrader": {
     "cell_type": "code",
     "checksum": "03721dfd06da2b986c9ce722d9db720a",
     "grade": true,
     "grade_id": "cell-7018fcba7f34af58",
     "locked": true,
     "points": 0,
     "schema_version": 3,
     "solution": false,
     "task": false
    }
   },
   "outputs": [],
   "source": [
    "# Cell is used for grading. Do not remove."
   ]
  },
  {
   "cell_type": "markdown",
   "id": "fa160611-c1d7-455d-bd30-61ee20013f64",
   "metadata": {},
   "source": [
    "#### Q5.2: What are the most popular pickup locations in the morning (8am - 10am) and in the evening (5pm-7pm)"
   ]
  },
  {
   "cell_type": "code",
   "execution_count": 29,
   "id": "8496fa9d-318d-4ca0-ad03-7de7cbf54834",
   "metadata": {
    "deletable": false,
    "nbgrader": {
     "cell_type": "code",
     "checksum": "77cfb83cdda3cd13121ee9576cc89d38",
     "grade": false,
     "grade_id": "cell-d36cfe06fc75a806",
     "locked": false,
     "schema_version": 3,
     "solution": true,
     "task": false
    }
   },
   "outputs": [
    {
     "data": {
      "text/html": [
       "<div>\n",
       "<style scoped>\n",
       "    .dataframe tbody tr th:only-of-type {\n",
       "        vertical-align: middle;\n",
       "    }\n",
       "\n",
       "    .dataframe tbody tr th {\n",
       "        vertical-align: top;\n",
       "    }\n",
       "\n",
       "    .dataframe thead th {\n",
       "        text-align: right;\n",
       "    }\n",
       "</style>\n",
       "<table border=\"1\" class=\"dataframe\">\n",
       "  <thead>\n",
       "    <tr style=\"text-align: right;\">\n",
       "      <th></th>\n",
       "      <th>PULocationID</th>\n",
       "      <th>trip_count</th>\n",
       "    </tr>\n",
       "  </thead>\n",
       "  <tbody>\n",
       "    <tr>\n",
       "      <th>0</th>\n",
       "      <td>132</td>\n",
       "      <td>598</td>\n",
       "    </tr>\n",
       "  </tbody>\n",
       "</table>\n",
       "</div>"
      ],
      "text/plain": [
       "   PULocationID  trip_count\n",
       "0           132         598"
      ]
     },
     "execution_count": 29,
     "metadata": {},
     "output_type": "execute_result"
    }
   ],
   "source": [
    "# Answer:\n",
    "%sql SELECT PULocationID, COUNT(*) AS trip_count FROM '2021_Yellow_Taxi_Trip_Data.csv' WHERE (tpep_pickup_datetime >= '2021-08-01 08:00:00' AND tpep_pickup_datetime < '2021-08-01 10:00:00') GROUP BY PULocationID ORDER BY trip_count DESC LIMIT 1;\n",
    "\n",
    "%sql SELECT PULocationID, COUNT(*) AS trip_count FROM '2021_Yellow_Taxi_Trip_Data.csv' WHERE (tpep_pickup_datetime >= '2021-08-01 17:00:00' AND tpep_pickup_datetime < '2021-08-01 19:00:00') GROUP BY PULocationID ORDER BY trip_count DESC LIMIT 1;\n"
   ]
  },
  {
   "cell_type": "code",
   "execution_count": 30,
   "id": "3e403a19-10aa-4078-9c60-1b5b4fc17df4",
   "metadata": {
    "deletable": false,
    "editable": false,
    "nbgrader": {
     "cell_type": "code",
     "checksum": "8f4081f3c5f48ec55937e470ea73acdf",
     "grade": true,
     "grade_id": "cell-4a2497eb9a1dfab2",
     "locked": true,
     "points": 0,
     "schema_version": 3,
     "solution": false,
     "task": false
    }
   },
   "outputs": [],
   "source": [
    "# Cell is used for grading. Do not remove."
   ]
  },
  {
   "cell_type": "markdown",
   "id": "54464ed3-b8ea-4a33-b755-bbe9b55333bd",
   "metadata": {
    "deletable": false,
    "editable": false,
    "nbgrader": {
     "cell_type": "markdown",
     "checksum": "682f484adf164bfe82e11192239df3ac",
     "grade": false,
     "grade_id": "cell-46fb0cd1579e395d",
     "locked": true,
     "schema_version": 3,
     "solution": false,
     "task": false
    }
   },
   "source": [
    "#### Q5.3: Which trips might be trips to and from work? (challenging)\n",
    "Figure out which pair of trips might be people taking a taxi to and from work. The output should include all pairs of potentially matching trips. Specifically, this might mean that one \"trip to work\" might be matched with multiple \"trip from work\".\n",
    "\n",
    "_Hint: This requires a huge join. Make reasonable assumptions, e.g. trips should be shorter than 60 mins, to reduce the amount of data that will be joined and potentially introduce some preparational steps to speed up processing. For the latter, have a look at `with` expressions in SQL!_"
   ]
  },
  {
   "cell_type": "code",
   "execution_count": 31,
   "id": "71042c72-7b55-4415-8e73-4a675a1eeee6",
   "metadata": {
    "deletable": false,
    "nbgrader": {
     "cell_type": "code",
     "checksum": "c89f11aa055c581d5087557743054fe8",
     "grade": true,
     "grade_id": "cell-cd315f9c1e4574b3",
     "locked": false,
     "points": 0,
     "schema_version": 3,
     "solution": true,
     "task": false
    }
   },
   "outputs": [
    {
     "name": "stdout",
     "output_type": "stream",
     "text": [
      "             pickup_to_work     dropoff_to_work    pickup_from_work  \\\n",
      "0       2021-08-06 17:28:44 2021-08-06 17:54:04 2021-08-06 17:56:20   \n",
      "1       2021-08-06 17:00:52 2021-08-06 17:26:58 2021-08-06 17:40:42   \n",
      "2       2021-08-06 17:59:27 2021-08-06 18:17:42 2021-08-06 18:20:13   \n",
      "3       2021-08-06 17:52:30 2021-08-06 18:07:06 2021-08-06 18:09:11   \n",
      "4       2021-08-06 17:36:08 2021-08-06 17:55:28 2021-08-06 18:05:52   \n",
      "...                     ...                 ...                 ...   \n",
      "2281405 2021-08-31 18:23:44 2021-08-31 18:32:52 2021-08-31 18:45:24   \n",
      "2281406 2021-08-31 18:22:32 2021-08-31 18:36:43 2021-08-31 18:51:38   \n",
      "2281407 2021-08-31 17:57:49 2021-08-31 18:16:46 2021-08-31 18:30:01   \n",
      "2281408 2021-08-31 18:05:43 2021-08-31 18:12:21 2021-08-31 18:22:03   \n",
      "2281409 2021-08-31 18:50:27 2021-08-31 18:56:01 2021-08-31 18:56:36   \n",
      "\n",
      "          dropoff_from_work  \n",
      "0       2021-08-06 18:30:45  \n",
      "1       2021-08-06 18:16:29  \n",
      "2       2021-08-06 18:42:19  \n",
      "3       2021-08-06 18:26:20  \n",
      "4       2021-08-06 18:13:24  \n",
      "...                     ...  \n",
      "2281405 2021-08-31 18:56:46  \n",
      "2281406 2021-08-31 18:58:57  \n",
      "2281407 2021-08-31 18:42:22  \n",
      "2281408 2021-08-31 18:24:28  \n",
      "2281409 2021-08-31 19:04:57  \n",
      "\n",
      "[2281410 rows x 4 columns]\n",
      "       pickup_to_work     dropoff_to_work    pickup_from_work  \\\n",
      "0 2021-08-06 17:28:44 2021-08-06 17:54:04 2021-08-06 17:56:20   \n",
      "1 2021-08-06 17:00:52 2021-08-06 17:26:58 2021-08-06 17:40:42   \n",
      "2 2021-08-06 17:59:27 2021-08-06 18:17:42 2021-08-06 18:20:13   \n",
      "3 2021-08-06 17:52:30 2021-08-06 18:07:06 2021-08-06 18:09:11   \n",
      "4 2021-08-06 17:36:08 2021-08-06 17:55:28 2021-08-06 18:05:52   \n",
      "\n",
      "    dropoff_from_work  \n",
      "0 2021-08-06 18:30:45  \n",
      "1 2021-08-06 18:16:29  \n",
      "2 2021-08-06 18:42:19  \n",
      "3 2021-08-06 18:26:20  \n",
      "4 2021-08-06 18:13:24  \n",
      "Rows with incorrect timestamp sequence: Empty DataFrame\n",
      "Columns: [pickup_to_work, dropoff_to_work, pickup_from_work, dropoff_from_work, is_sequence_correct]\n",
      "Index: []\n"
     ]
    }
   ],
   "source": [
    "import duckdb\n",
    "\n",
    "# Create a DuckDB in-memory database\n",
    "con = duckdb.connect()\n",
    "\n",
    "# Load the CSV into a DuckDB table\n",
    "con.execute(\"\"\"\n",
    "CREATE TABLE taxi_trips AS \n",
    "SELECT \n",
    "    tpep_pickup_datetime,\n",
    "    tpep_dropoff_datetime,\n",
    "    PULocationID,\n",
    "    DOLocationID,\n",
    "    trip_distance,\n",
    "    passenger_count \n",
    "FROM read_csv_auto('2021_Yellow_Taxi_Trip_Data.csv')\n",
    "\"\"\")\n",
    "\n",
    "# Execute the SQL query in one line\n",
    "result = con.execute(\"WITH to_work AS (SELECT tpep_pickup_datetime AS pickup_to_work, tpep_dropoff_datetime AS dropoff_to_work, PULocationID AS pickup_location_to_work, DOLocationID AS dropoff_location_to_work FROM taxi_trips WHERE trip_distance > 0 AND passenger_count > 0 AND (tpep_dropoff_datetime - tpep_pickup_datetime) < INTERVAL '1 hour'), from_work AS (SELECT tpep_pickup_datetime AS pickup_from_work, tpep_dropoff_datetime AS dropoff_from_work, PULocationID AS pickup_location_from_work, DOLocationID AS dropoff_location_from_work FROM taxi_trips WHERE trip_distance > 0 AND passenger_count > 0 AND (tpep_dropoff_datetime - tpep_pickup_datetime) < INTERVAL '1 hour') SELECT tw.pickup_to_work, tw.dropoff_to_work, fw.pickup_from_work, fw.dropoff_from_work FROM to_work tw JOIN from_work fw ON tw.dropoff_location_to_work = fw.pickup_location_from_work AND tw.pickup_location_to_work = fw.dropoff_location_from_work AND fw.pickup_from_work > tw.dropoff_to_work AND tw.pickup_to_work < tw.dropoff_to_work AND tw.dropoff_to_work < fw.pickup_from_work AND fw.pickup_from_work < fw.dropoff_from_work WHERE ABS(EXTRACT(EPOCH FROM fw.pickup_from_work) - EXTRACT(EPOCH FROM tw.dropoff_to_work)) <= 900;\").fetchdf()\n",
    "\n",
    "# Display the result\n",
    "print(result)\n",
    "\n",
    "# Display the first few rows to visually confirm output structure\n",
    "print(result.head())\n",
    "\n",
    "# Check if pickup_to_work < dropoff_to_work < pickup_from_work < dropoff_from_work for each row\n",
    "result['is_sequence_correct'] = (\n",
    "    (result['pickup_to_work'] < result['dropoff_to_work']) &\n",
    "    (result['dropoff_to_work'] < result['pickup_from_work']) &\n",
    "    (result['pickup_from_work'] < result['dropoff_from_work'])\n",
    ")\n",
    "\n",
    "# Print rows where the sequence check failed\n",
    "incorrect_rows = result[~result['is_sequence_correct']]\n",
    "print(\"Rows with incorrect timestamp sequence:\", incorrect_rows)\n"
   ]
  },
  {
   "cell_type": "markdown",
   "id": "9e5a2759-1f10-4a26-a4ed-3f7a4f10f884",
   "metadata": {},
   "source": [
    "## Feedback (voluntary)\n",
    "\n",
    "How did you like this exercise? What could be improved?\n",
    "\n",
    "Answer:\n",
    "\n",
    "...\n",
    "\n",
    "Further, I feel like:\n",
    " - [ ] the exercise was too easy\n",
    " - [X] the exercise was too hard\n",
    " - [] the exercise was just right\n",
    " - [] no answer\n"
   ]
  }
 ],
 "metadata": {
  "kernelspec": {
   "display_name": "venv",
   "language": "python",
   "name": "python3"
  },
  "language_info": {
   "codemirror_mode": {
    "name": "ipython",
    "version": 3
   },
   "file_extension": ".py",
   "mimetype": "text/x-python",
   "name": "python",
   "nbconvert_exporter": "python",
   "pygments_lexer": "ipython3",
   "version": "3.12.3"
  }
 },
 "nbformat": 4,
 "nbformat_minor": 5
}
