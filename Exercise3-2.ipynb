{
 "cells": [
  {
   "cell_type": "markdown",
   "id": "24aee009-7b06-45f7-8651-fca89dcc13ac",
   "metadata": {},
   "source": [
    "# Exercise 3: Storage"
   ]
  },
  {
   "cell_type": "markdown",
   "id": "e7ef5334-151e-4563-853d-89519823cfe5",
   "metadata": {},
   "source": [
    "Your name: Sayeeda Begam Mohamed Ikbal"
   ]
  },
  {
   "cell_type": "markdown",
   "id": "a8f9265b-f036-4a91-aaba-c42287c98691",
   "metadata": {},
   "source": [
    "In previous exercises, you have already worked with the NYTD data set - \n",
    "and in the last exercise you even used Parquet at one point (maybe without even noticing)."
   ]
  },
  {
   "cell_type": "markdown",
   "id": "c4aa4bc1-6be2-414b-b24d-b2468642cff8",
   "metadata": {},
   "source": [
    "## Task 1: Compression\n",
    "\n",
    "Parquet supports different compression schemes; and outside of Parquet, there are dozens of more compression algorithms available, each of them geared towards different use cases with their own strengths and weaknesses.\n",
    "\n",
    "First, let's start with some priliminary work: understanding the benefits of compression. Not only does compression reduce storage space, but you can also increase the effective throughput when loading data. Why is that? When transferring data, you are usually bound by the channels throughput. This might be the network speed or the throughput limit on hard drives. When reading *compressed* data, less bandwidth is required to read the file because the file is smaller. Great! However, there is one catch: The throughput of the transfer channel is not the only limitation - the decompression throughput is another limit, which is different for each algorithm and dataset. In this exercsise, we'd like to explore this a bit more.\n",
    "\n",
    "Compression ratios heavily depend on the type of data that is being compressed. Repetitive text, e.g. logs, usually compresses fairly well, while binary data, e.g. images, is oftentimes harder to compress.\n",
    "\n",
    "Takeaways:\n",
    " * Higher compression ratios mean higher effective read throughput\n",
    " * Overall read throughput is also limited by the decompression speed of the algorithm\n",
    "\n",
    "\n",
    "\n",
    "For this task, we will use results from http://quixdb.github.io/squash-benchmark on the \"Medical magnetic resonanse image\" for the \"e-desktop\" machine. This is a dataset of images that are well-compressable."
   ]
  },
  {
   "cell_type": "code",
   "execution_count": 11,
   "id": "710c6315-392d-418a-ba8b-f693a78931f4",
   "metadata": {},
   "outputs": [
    {
     "data": {
      "text/html": [
       "<div>\n",
       "<style scoped>\n",
       "    .dataframe tbody tr th:only-of-type {\n",
       "        vertical-align: middle;\n",
       "    }\n",
       "\n",
       "    .dataframe tbody tr th {\n",
       "        vertical-align: top;\n",
       "    }\n",
       "\n",
       "    .dataframe thead th {\n",
       "        text-align: right;\n",
       "    }\n",
       "</style>\n",
       "<table border=\"1\" class=\"dataframe\">\n",
       "  <thead>\n",
       "    <tr style=\"text-align: right;\">\n",
       "      <th></th>\n",
       "      <th>dataset</th>\n",
       "      <th>level</th>\n",
       "      <th>compressed_size</th>\n",
       "      <th>compress_cpu</th>\n",
       "      <th>compress_wall</th>\n",
       "      <th>decompress_cpu</th>\n",
       "      <th>decompress_wall</th>\n",
       "      <th>algorithm</th>\n",
       "    </tr>\n",
       "  </thead>\n",
       "  <tbody>\n",
       "    <tr>\n",
       "      <th>2820</th>\n",
       "      <td>mr</td>\n",
       "      <td>NaN</td>\n",
       "      <td>4393341</td>\n",
       "      <td>0.108975</td>\n",
       "      <td>0.110939</td>\n",
       "      <td>0.072202</td>\n",
       "      <td>0.072238</td>\n",
       "      <td>brieflz:brieflz</td>\n",
       "    </tr>\n",
       "    <tr>\n",
       "      <th>2821</th>\n",
       "      <td>mr</td>\n",
       "      <td>1.0</td>\n",
       "      <td>3458228</td>\n",
       "      <td>0.123153</td>\n",
       "      <td>0.123212</td>\n",
       "      <td>0.045740</td>\n",
       "      <td>0.045763</td>\n",
       "      <td>brotli:brotli</td>\n",
       "    </tr>\n",
       "    <tr>\n",
       "      <th>2822</th>\n",
       "      <td>mr</td>\n",
       "      <td>2.0</td>\n",
       "      <td>3502025</td>\n",
       "      <td>0.155627</td>\n",
       "      <td>0.155708</td>\n",
       "      <td>0.045233</td>\n",
       "      <td>0.045258</td>\n",
       "      <td>brotli:brotli</td>\n",
       "    </tr>\n",
       "    <tr>\n",
       "      <th>2823</th>\n",
       "      <td>mr</td>\n",
       "      <td>3.0</td>\n",
       "      <td>3526515</td>\n",
       "      <td>0.175411</td>\n",
       "      <td>0.175495</td>\n",
       "      <td>0.044723</td>\n",
       "      <td>0.044746</td>\n",
       "      <td>brotli:brotli</td>\n",
       "    </tr>\n",
       "    <tr>\n",
       "      <th>2824</th>\n",
       "      <td>mr</td>\n",
       "      <td>4.0</td>\n",
       "      <td>3469270</td>\n",
       "      <td>0.216071</td>\n",
       "      <td>0.216176</td>\n",
       "      <td>0.044143</td>\n",
       "      <td>0.044165</td>\n",
       "      <td>brotli:brotli</td>\n",
       "    </tr>\n",
       "    <tr>\n",
       "      <th>...</th>\n",
       "      <td>...</td>\n",
       "      <td>...</td>\n",
       "      <td>...</td>\n",
       "      <td>...</td>\n",
       "      <td>...</td>\n",
       "      <td>...</td>\n",
       "      <td>...</td>\n",
       "      <td>...</td>\n",
       "    </tr>\n",
       "    <tr>\n",
       "      <th>3050</th>\n",
       "      <td>mr</td>\n",
       "      <td>2.0</td>\n",
       "      <td>3592407</td>\n",
       "      <td>3.649937</td>\n",
       "      <td>3.651623</td>\n",
       "      <td>0.185818</td>\n",
       "      <td>0.185717</td>\n",
       "      <td>zpaq:zpaq</td>\n",
       "    </tr>\n",
       "    <tr>\n",
       "      <th>3051</th>\n",
       "      <td>mr</td>\n",
       "      <td>3.0</td>\n",
       "      <td>2616261</td>\n",
       "      <td>4.127781</td>\n",
       "      <td>4.129764</td>\n",
       "      <td>2.001956</td>\n",
       "      <td>2.002788</td>\n",
       "      <td>zpaq:zpaq</td>\n",
       "    </tr>\n",
       "    <tr>\n",
       "      <th>3052</th>\n",
       "      <td>mr</td>\n",
       "      <td>4.0</td>\n",
       "      <td>2212601</td>\n",
       "      <td>9.906205</td>\n",
       "      <td>9.910826</td>\n",
       "      <td>9.743971</td>\n",
       "      <td>9.748473</td>\n",
       "      <td>zpaq:zpaq</td>\n",
       "    </tr>\n",
       "    <tr>\n",
       "      <th>3053</th>\n",
       "      <td>mr</td>\n",
       "      <td>5.0</td>\n",
       "      <td>2175988</td>\n",
       "      <td>28.263835</td>\n",
       "      <td>28.277545</td>\n",
       "      <td>28.645518</td>\n",
       "      <td>28.658918</td>\n",
       "      <td>zpaq:zpaq</td>\n",
       "    </tr>\n",
       "    <tr>\n",
       "      <th>3054</th>\n",
       "      <td>mr</td>\n",
       "      <td>NaN</td>\n",
       "      <td>3787250</td>\n",
       "      <td>0.065771</td>\n",
       "      <td>0.065808</td>\n",
       "      <td>0.026180</td>\n",
       "      <td>0.026194</td>\n",
       "      <td>zstd:zstd</td>\n",
       "    </tr>\n",
       "  </tbody>\n",
       "</table>\n",
       "<p>235 rows × 8 columns</p>\n",
       "</div>"
      ],
      "text/plain": [
       "     dataset  level  compressed_size  compress_cpu  compress_wall  \\\n",
       "2820      mr    NaN          4393341      0.108975       0.110939   \n",
       "2821      mr    1.0          3458228      0.123153       0.123212   \n",
       "2822      mr    2.0          3502025      0.155627       0.155708   \n",
       "2823      mr    3.0          3526515      0.175411       0.175495   \n",
       "2824      mr    4.0          3469270      0.216071       0.216176   \n",
       "...      ...    ...              ...           ...            ...   \n",
       "3050      mr    2.0          3592407      3.649937       3.651623   \n",
       "3051      mr    3.0          2616261      4.127781       4.129764   \n",
       "3052      mr    4.0          2212601      9.906205       9.910826   \n",
       "3053      mr    5.0          2175988     28.263835      28.277545   \n",
       "3054      mr    NaN          3787250      0.065771       0.065808   \n",
       "\n",
       "      decompress_cpu  decompress_wall        algorithm  \n",
       "2820        0.072202         0.072238  brieflz:brieflz  \n",
       "2821        0.045740         0.045763    brotli:brotli  \n",
       "2822        0.045233         0.045258    brotli:brotli  \n",
       "2823        0.044723         0.044746    brotli:brotli  \n",
       "2824        0.044143         0.044165    brotli:brotli  \n",
       "...              ...              ...              ...  \n",
       "3050        0.185818         0.185717        zpaq:zpaq  \n",
       "3051        2.001956         2.002788        zpaq:zpaq  \n",
       "3052        9.743971         9.748473        zpaq:zpaq  \n",
       "3053       28.645518        28.658918        zpaq:zpaq  \n",
       "3054        0.026180         0.026194        zstd:zstd  \n",
       "\n",
       "[235 rows x 8 columns]"
      ]
     },
     "metadata": {},
     "output_type": "display_data"
    }
   ],
   "source": [
    "# Load compression benchmark data\n",
    "\n",
    "import pandas as pd\n",
    "\n",
    "url = \"http://quixdb.github.io/squash-benchmark/data/e-desktop.csv\"\n",
    "df = pd.read_csv(url)\n",
    "\n",
    "# Do some pre-processing\n",
    "df = df[df.dataset == \"mr\"]\n",
    "df[\"algorithm\"] = df[\"plugin\"] + \":\" + df[\"codec\"]\n",
    "df = df.drop(columns=[\"plugin\", \"codec\"])\n",
    "\n",
    "display(df)"
   ]
  },
  {
   "cell_type": "markdown",
   "id": "97ed4efa-f6a2-4b99-9f80-4285b1342f98",
   "metadata": {},
   "source": [
    "### Task 1.1\n",
    "\n",
    "Compute the compression ratios and the effective decompression throughput based on the given data!\n",
    "For throughput, we use the wall-clock-time.\n",
    "\n",
    "Use matplotlib to create a with the compression ratio on one axis and the decompression throughput on the other axis."
   ]
  },
  {
   "cell_type": "code",
   "execution_count": 2,
   "id": "88f88696-d832-4d0c-a30c-cd3a32a89db1",
   "metadata": {},
   "outputs": [],
   "source": [
    "import math\n",
    "import matplotlib.pyplot as plt\n",
    "\n",
    "# Original size of the mr-dataset in bytes. Needed to compute the compression ratio.\n",
    "orig_size = 9970564"
   ]
  },
  {
   "cell_type": "code",
   "execution_count": 5,
   "id": "63626f4e-66e2-463f-9965-b088c35a9e57",
   "metadata": {
    "deletable": false,
    "nbgrader": {
     "cell_type": "code",
     "checksum": "78fa1679e8d440f2ebb416413d79b6c9",
     "grade": true,
     "grade_id": "cell-3c9c44511510b8c1",
     "locked": false,
     "points": 0,
     "schema_version": 3,
     "solution": true,
     "task": false
    }
   },
   "outputs": [
    {
     "data": {
      "image/png": "[encoded data removed]",
      "text/plain": [
       "<Figure size 1000x600 with 1 Axes>"
      ]
     },
     "metadata": {},
     "output_type": "display_data"
    }
   ],
   "source": [
    "# Solution:\n",
    "# Estimate runtime: 2s\n",
    "\n",
    "# <your code here>\n",
    "df['compression_ratio'] = orig_size / df['compressed_size']\n",
    "df['decompression_throughput'] = orig_size / df['decompress_wall']\n",
    "\n",
    "# Now, let's plot the compression ratio vs. decompression throughput\n",
    "plt.figure(figsize=(10, 6))\n",
    "plt.scatter(df['compression_ratio'], df['decompression_throughput'], alpha=0.6, edgecolors=\"w\", s=100)\n",
    "plt.title('Compression Ratio vs. Decompression Throughput')\n",
    "plt.xlabel('Compression Ratio')\n",
    "plt.ylabel('Decompression Throughput (bytes/sec)')\n",
    "plt.grid(True)\n",
    "\n",
    "# Show the plot\n",
    "plt.show()"
   ]
  },
  {
   "cell_type": "markdown",
   "id": "c7a6fc6a-246c-4ed2-b0b5-3f24f80c7f00",
   "metadata": {},
   "source": [
    "### Task 1.2\n",
    "\n",
    "Now we would like to figure out which compression algorithm we want to use for this data set (the `mr` data set) to maximize effective throughput.\n",
    "Compute the effective throughput for each of the compression algorithms on the `mr` data set. Then output the best ones."
   ]
  },
  {
   "cell_type": "code",
   "execution_count": 6,
   "id": "1d355fa0-035f-4969-9706-05619b6c45cc",
   "metadata": {},
   "outputs": [],
   "source": [
    "# Preliminary constants required for the solution\n",
    "s3_throughput = 100 * 1000 * 1000 * 1000 / 8 # 100 gbps, in bytes/s, ca 11 GB/s\n",
    "num_cpus = 72"
   ]
  },
  {
   "cell_type": "code",
   "execution_count": 7,
   "id": "4eceef78-0935-4d78-bbe8-ca60bd1f90c8",
   "metadata": {
    "deletable": false,
    "nbgrader": {
     "cell_type": "code",
     "checksum": "56dce073d418b8a790bcd0214d1eb800",
     "grade": true,
     "grade_id": "cell-69588ee0124110f6",
     "locked": false,
     "points": 0,
     "schema_version": 3,
     "solution": true,
     "task": false
    }
   },
   "outputs": [
    {
     "data": {
      "text/html": [
       "<div>\n",
       "<style scoped>\n",
       "    .dataframe tbody tr th:only-of-type {\n",
       "        vertical-align: middle;\n",
       "    }\n",
       "\n",
       "    .dataframe tbody tr th {\n",
       "        vertical-align: top;\n",
       "    }\n",
       "\n",
       "    .dataframe thead th {\n",
       "        text-align: right;\n",
       "    }\n",
       "</style>\n",
       "<table border=\"1\" class=\"dataframe\">\n",
       "  <thead>\n",
       "    <tr style=\"text-align: right;\">\n",
       "      <th></th>\n",
       "      <th>algorithm</th>\n",
       "      <th>limited_throughput</th>\n",
       "    </tr>\n",
       "  </thead>\n",
       "  <tbody>\n",
       "    <tr>\n",
       "      <th>2842</th>\n",
       "      <td>copy:copy</td>\n",
       "      <td>1.943959e+09</td>\n",
       "    </tr>\n",
       "    <tr>\n",
       "      <th>2859</th>\n",
       "      <td>lz4:lz4f</td>\n",
       "      <td>8.673072e+08</td>\n",
       "    </tr>\n",
       "    <tr>\n",
       "      <th>2860</th>\n",
       "      <td>lz4:lz4f</td>\n",
       "      <td>8.607186e+08</td>\n",
       "    </tr>\n",
       "    <tr>\n",
       "      <th>2858</th>\n",
       "      <td>lz4:lz4f</td>\n",
       "      <td>8.479813e+08</td>\n",
       "    </tr>\n",
       "    <tr>\n",
       "      <th>2867</th>\n",
       "      <td>lz4:lz4f</td>\n",
       "      <td>7.987954e+08</td>\n",
       "    </tr>\n",
       "  </tbody>\n",
       "</table>\n",
       "</div>"
      ],
      "text/plain": [
       "      algorithm  limited_throughput\n",
       "2842  copy:copy        1.943959e+09\n",
       "2859   lz4:lz4f        8.673072e+08\n",
       "2860   lz4:lz4f        8.607186e+08\n",
       "2858   lz4:lz4f        8.479813e+08\n",
       "2867   lz4:lz4f        7.987954e+08"
      ]
     },
     "execution_count": 7,
     "metadata": {},
     "output_type": "execute_result"
    }
   ],
   "source": [
    "# Solution\n",
    "# Estimated runtime: 2s\n",
    "\n",
    "# <your code here>\n",
    "\n",
    "# Calculate the effective throughput for each algorithm\n",
    "df['effective_throughput'] = orig_size / df['decompress_wall']\n",
    "\n",
    "# Compute the maximum throughput for each algorithm, considering hardware limits\n",
    "# The throughput is limited by both network throughput and the number of available CPUs\n",
    "df['limited_throughput'] = df['effective_throughput'].clip(upper=s3_throughput)\n",
    "\n",
    "# Sorting the dataframe by limited throughput to find the best algorithms\n",
    "best_algorithms = df[['algorithm', 'limited_throughput']].sort_values(by='limited_throughput', ascending=False)\n",
    "\n",
    "# Show the top algorithms with the best throughput\n",
    "best_algorithms.head()"
   ]
  },
  {
   "cell_type": "markdown",
   "id": "f8f9a2b4-fee0-4702-88c7-5071e28d4d18",
   "metadata": {},
   "source": [
    "### Task 1.3\n",
    "Parquet does not support every compression algorithm in the list.\n",
    "See also https://arrow.apache.org/docs/python/generated/pyarrow.parquet.write_table.html\n",
    "Based on the above observations, what compression algorithm would you use for Parquet and the `mr` data set?"
   ]
  },
  {
   "cell_type": "code",
   "execution_count": null,
   "id": "ddac1eca-1f05-44c9-adb1-712e9d8b619c",
   "metadata": {
    "deletable": false,
    "nbgrader": {
     "cell_type": "code",
     "checksum": "0838a8ad26cd72a5259a338b71dd91ae",
     "grade": true,
     "grade_id": "cell-5da584e8129ea14e",
     "locked": false,
     "points": 0,
     "schema_version": 3,
     "solution": true,
     "task": false
    }
   },
   "outputs": [
    {
     "ename": "SyntaxError",
     "evalue": "unterminated string literal (detected at line 15) (2834139402.py, line 15)",
     "output_type": "error",
     "traceback": [
      "\u001b[0;36m  Cell \u001b[0;32mIn[9], line 15\u001b[0;36m\u001b[0m\n\u001b[0;31m    The selection of an appropriate compression algorithm is not solely based on compression ratio; it's a balance between:\u001b[0m\n\u001b[0m                                                                                                      ^\u001b[0m\n\u001b[0;31mSyntaxError\u001b[0m\u001b[0;31m:\u001b[0m unterminated string literal (detected at line 15)\n"
     ]
    }
   ],
   "source": [
    "# Solution (free text, no code required):\n",
    "# <your code here>\n",
    "\"\"\"Compatibility with Parquet\n",
    "Parquet, being a columnar storage format widely used in data engineering and analytics, supports a limited set of compression algorithms. These include:\n",
    "\n",
    "Snappy\n",
    "Gzip\n",
    "Brotli\n",
    "LZ4\n",
    "Zstd (Zstandard)\n",
    "The compression algorithms tested in the benchmark, such as Zpaq and Brieflz, are not compatible with Parquet, which narrows the selection to the algorithms supported by the format. This is an important constraint when considering the most suitable compression algorithm for our dataset.\n",
    "\n",
    "Performance Characteristics\n",
    "The selection of an appropriate compression algorithm is not solely based on compression ratio; it's a balance between:\n",
    "\n",
    "Compression Ratio: The ability of the algorithm to reduce the file size.\n",
    "Decompression Speed: The speed at which the data can be read, which is especially important in environments where the data will be frequently accessed.\n",
    "CPU and IO Efficiency: The computational resources required during both compression and decompression, which may impact system performance in a multi-user or high-load environment.\n",
    "Heres a look at the key algorithms supported by Parquet:\n",
    "\n",
    "Snappy: Known for its speed in both compression and decompression, Snappy provides a lower compression ratio compared to other algorithms, making it an excellent choice when read speed is the priority, and storage space is less of a concern. This makes it a popular choice in real-time data processing systems and streaming applications.\n",
    "\n",
    "Gzip: Provides a higher compression ratio than Snappy, but with a trade-off in decompression speed. Gzip is suitable for storage-focused scenarios where saving space is critical, but it may not be ideal for performance-critical applications due to its slower decompression.\n",
    "\n",
    "Brotli: Originally developed for web compression, Brotli offers a good compression ratio, though its decompression speed is generally slower than Snappy. It strikes a balance between compression and decompression but might not be as fast as needed for large-scale data analytics applications.\n",
    "\n",
    "LZ4: Offers extremely fast compression and decompression speeds, making it a go-to choice for scenarios where processing speed is prioritized over compression efficiency. However, its compression ratio is typically lower than more computationally intensive algorithms like Gzip and Zstd.\n",
    "\n",
    "Zstd (Zstandard): Arguably one of the most versatile compression algorithms, Zstd provides an excellent compression ratio while maintaining fast decompression speeds. It offers a highly favorable balance of compression efficiency and decompression performance, which is why it has gained significant traction in modern data processing workflows.\n",
    "\n",
    "Recommendation\n",
    "Given the characteristics of the mr dataset, which likely consists of large amounts of data (e.g., medical imaging data) that must be efficiently compressed and frequently accessed, Zstd (Zstandard) stands out as the best option for Parquet. It offers the best of both worlds: a high compression ratio to save storage space and fast decompression speeds to maximize data throughput during read operations. Zstd is also widely supported in modern data processing frameworks and provides scalability for large datasets.\n",
    "\n",
    "In comparison, while Snappy offers speed, it does so at the expense of compression efficiency, making it a less optimal choice when storage space is at a premium. Gzip, although it provides a higher compression ratio, comes with slower decompression speeds, making it less ideal for high-performance scenarios. Brotli and LZ4, while useful in specific contexts, do not match the versatility and balance of Zstd for this particular dataset.\n",
    "\n",
    "Conclusion\n",
    "For the mr dataset in Parquet, Zstd is the recommended compression algorithm. It combines high compression efficiency with fast decompression speeds, ensuring both storage optimization and performance, which is critical for large-scale data analytics workflows. This makes Zstd the most appropriate choice for handling the dataset effectively within Parquet's ecosystem.\"\"\""
   ]
  },
  {
   "cell_type": "markdown",
   "id": "2508378f-da9b-4846-b7dd-65e77fc8c7b8",
   "metadata": {},
   "source": [
    "### Task 1.4\n",
    "\n",
    "We did the above on the `mr` data set because we had extensive benchmarking results available. However, we now want to at least double-check the compression ratios on our NYTD data set.\n",
    "\n",
    "For the following task, use `pyarrow` to convert the NYTD data set into Parquet. Do this once for every compression algorithm that is supported by Parquet, including `NONE`, and print the size of the resulting file! Also print the file of the CSV file!"
   ]
  },
  {
   "cell_type": "code",
   "execution_count": 2,
   "id": "d935a4bc-2504-42b6-ba22-01bdf62bf41f",
   "metadata": {
    "deletable": false,
    "nbgrader": {
     "cell_type": "code",
     "checksum": "e730fc56d33b28795e878352027f1cf8",
     "grade": true,
     "grade_id": "cell-814d2ee4c4a3fbf7",
     "locked": false,
     "points": 0,
     "schema_version": 3,
     "solution": true,
     "task": false
    }
   },
   "outputs": [
    {
     "name": "stdout",
     "output_type": "stream",
     "text": [
      "Original CSV file size: 297.71 MB\n"
     ]
    },
    {
     "name": "stderr",
     "output_type": "stream",
     "text": [
      "/tmp/ipykernel_17797/1822625336.py:14: DtypeWarning: Columns (7) have mixed types. Specify dtype option on import or set low_memory=False.\n",
      "  df = pd.read_csv(csv_file_path)\n"
     ]
    },
    {
     "name": "stdout",
     "output_type": "stream",
     "text": [
      "Parquet file size with NONE compression: 169.90 MB\n",
      "Parquet file size with SNAPPY compression: 66.26 MB\n",
      "Parquet file size with GZIP compression: 40.85 MB\n",
      "Parquet file size with BROTLI compression: 39.01 MB\n",
      "Parquet file size with LZ4 compression: 65.97 MB\n",
      "Parquet file size with ZSTD compression: 40.62 MB\n",
      "\n",
      "Compression ratios:\n",
      "NONE: Compression ratio = 1.75\n",
      "SNAPPY: Compression ratio = 4.49\n",
      "GZIP: Compression ratio = 7.29\n",
      "BROTLI: Compression ratio = 7.63\n",
      "LZ4: Compression ratio = 4.51\n",
      "ZSTD: Compression ratio = 7.33\n"
     ]
    }
   ],
   "source": [
    "import pandas as pd\n",
    "import pyarrow as pa\n",
    "import pyarrow.parquet as pq\n",
    "import os\n",
    "\n",
    "# Path to the CSV file\n",
    "csv_file_path = '/home/sayeedabegam/utn/sem1/Data_Eng/DE/venv/2021_Yellow_Taxi_Trip_Data.csv'\n",
    "\n",
    "# Check the size of the original CSV file\n",
    "csv_size = os.path.getsize(csv_file_path)\n",
    "print(f\"Original CSV file size: {csv_size / (1024 * 1024):.2f} MB\")\n",
    "\n",
    "# Load the CSV data into a Pandas DataFrame\n",
    "df = pd.read_csv(csv_file_path)\n",
    "\n",
    "# Convert the DataFrame to a PyArrow Table\n",
    "table = pa.Table.from_pandas(df)\n",
    "\n",
    "# List of supported Parquet compression algorithms\n",
    "compression_algorithms = ['NONE', 'SNAPPY', 'GZIP', 'BROTLI', 'LZ4', 'ZSTD']\n",
    "\n",
    "# Dictionary to store resulting sizes for each compression algorithm\n",
    "compression_sizes = {}\n",
    "\n",
    "# Convert CSV to Parquet for each compression algorithm and store file sizes\n",
    "for algo in compression_algorithms:\n",
    "    parquet_file_path = f\"/home/sayeedabegam/utn/sem1/Data_Eng/DE/venv/2021_Yellow_Taxi_Trip_Data_{algo}.parquet\"\n",
    "    \n",
    "    # Write the data to Parquet with the specified compression algorithm\n",
    "    pq.write_table(table, parquet_file_path, compression=algo)\n",
    "    \n",
    "    # Get the size of the resulting Parquet file\n",
    "    parquet_size = os.path.getsize(parquet_file_path)\n",
    "    compression_sizes[algo] = parquet_size\n",
    "    print(f\"Parquet file size with {algo} compression: {parquet_size / (1024 * 1024):.2f} MB\")\n",
    "\n",
    "# Print compression ratios\n",
    "print(\"\\nCompression ratios:\")\n",
    "for algo, parquet_size in compression_sizes.items():\n",
    "    ratio = csv_size / parquet_size\n",
    "    print(f\"{algo}: Compression ratio = {ratio:.2f}\")\n"
   ]
  },
  {
   "cell_type": "markdown",
   "id": "9549a993-803c-49be-b486-18de1e9c0179",
   "metadata": {},
   "source": [
    "## Feedback (voluntary)\n",
    "\n",
    "How did you like this exercise? What could be improved?\n",
    "\n",
    "Answer:\n",
    "\n",
    "...\n",
    "\n",
    "Further, I feel like:\n",
    " - [ ] the exercise was too easy\n",
    " - [ ] the exercise was too hard\n",
    " - [ ] the exercise was just right\n",
    " - [x] no answer\n"
   ]
  }
 ],
 "metadata": {
  "kernelspec": {
   "display_name": "venv",
   "language": "python",
   "name": "python3"
  },
  "language_info": {
   "codemirror_mode": {
    "name": "ipython",
    "version": 3
   },
   "file_extension": ".py",
   "mimetype": "text/x-python",
   "name": "python",
   "nbconvert_exporter": "python",
   "pygments_lexer": "ipython3",
   "version": "3.12.3"
  }
 },
 "nbformat": 4,
 "nbformat_minor": 5
}
